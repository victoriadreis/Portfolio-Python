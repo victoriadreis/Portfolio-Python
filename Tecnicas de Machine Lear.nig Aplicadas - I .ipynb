{
  "nbformat": 4,
  "nbformat_minor": 0,
  "metadata": {
    "colab": {
      "name": "ML- 1.ipynb",
      "provenance": [],
      "collapsed_sections": [
        "U8O1FnnR7Nlx",
        "pyXPsb2BYKNX",
        "1GcmXv26divX",
        "AXgcT5PYZf5C",
        "ysly1nQ3Zspj",
        "UkF9RGAGdbnm",
        "bcymkhW0dIqH",
        "icVAiSSgl9jZ",
        "eFrLy43m5L8I",
        "McW1DLghanm4",
        "QVQpzy1ibLWP",
        "6TiB7V2cb1W3",
        "KAJ8rbDTcXl_",
        "2FXDB7tneV_u",
        "Cn0WTXhJgwl_",
        "twEOaGT5hStA",
        "MnuARIsEhkUC",
        "9kFVywOsiwqa",
        "QcNS8camjjrJ",
        "ly9H24Ntj3d5",
        "Bzv4YeH_x5H5",
        "arvSeT730zOm",
        "AQF3-LoA3Iyd",
        "bLGXel9r7QTL",
        "hR2IsRd08cWQ",
        "x25UlJIK8puq",
        "tNp_ikjS9YZa",
        "6o-nHBaF-keW",
        "fxExpbxyAEzz"
      ],
      "include_colab_link": true
    },
    "kernelspec": {
      "name": "python3",
      "display_name": "Python 3"
    }
  },
  "cells": [
    {
      "cell_type": "markdown",
      "metadata": {
        "id": "view-in-github",
        "colab_type": "text"
      },
      "source": [
        "<a href=\"https://colab.research.google.com/github/FelipeRamosOliveira/Portfolio-Python/blob/master/Tecnicas%20de%20Machine%20Lear.nig%20Aplicadas%20-%20I%20.ipynb\" target=\"_parent\"><img src=\"https://colab.research.google.com/assets/colab-badge.svg\" alt=\"Open In Colab\"/></a>"
      ]
    },
    {
      "cell_type": "markdown",
      "metadata": {
        "id": "NaLFAI9lB0Fs",
        "colab_type": "text"
      },
      "source": [
        "# <font color=green> INTRODUÇÃO A MACHINE LEARNING\n",
        "Esse notebook apresentas os primeiros passos pra ingressar na área de machine learnig.Esse notebook contem:\n",
        "\n",
        "* Noções básicas de data science\n",
        "* Noções de data visualization\n",
        "* Preditores baseados em *support vector machine* (SVM)\n",
        "* Preditores baseados em árvores de deecisão\n",
        "\n",
        "Os notebooks a seguir podem ser utéis para compreender esse notebook:\n",
        "\n",
        "* [https://colab.research.google.com/github/FelipeRamosOliveira/Notebooks/blob/master/DS_NUMPY.ipynb](https://)\n",
        "\n",
        "* [https://colab.research.google.com/github/FelipeRamosOliveira/Notebooks/blob/master/DS_SEABORN.ipynb](https://)\n"
      ]
    },
    {
      "cell_type": "markdown",
      "metadata": {
        "id": "U8O1FnnR7Nlx",
        "colab_type": "text"
      },
      "source": [
        "# <font color=green> AULA 1 - INTRODUÇÃO A DATA SCIENCE\n"
      ]
    },
    {
      "cell_type": "markdown",
      "metadata": {
        "id": "pyXPsb2BYKNX",
        "colab_type": "text"
      },
      "source": [
        "## Importar bibliotecas"
      ]
    },
    {
      "cell_type": "code",
      "metadata": {
        "id": "MW7V91eMrN7K",
        "colab_type": "code",
        "outputId": "28b687e2-6574-4726-b1c8-14c3fe1022b4",
        "colab": {
          "base_uri": "https://localhost:8080/"
        }
      },
      "source": [
        "import seaborn as sns\n",
        "print(sns.__version__)"
      ],
      "execution_count": 0,
      "outputs": [
        {
          "output_type": "stream",
          "text": [
            "0.9.0\n"
          ],
          "name": "stdout"
        }
      ]
    },
    {
      "cell_type": "markdown",
      "metadata": {
        "id": "1GcmXv26divX",
        "colab_type": "text"
      },
      "source": [
        "## 1.1. Analise de filmes (Infotmações Gerais do Data Frame)"
      ]
    },
    {
      "cell_type": "markdown",
      "metadata": {
        "id": "AXgcT5PYZf5C",
        "colab_type": "text"
      },
      "source": [
        "### 1.1.1. Importar bases de dados"
      ]
    },
    {
      "cell_type": "code",
      "metadata": {
        "id": "Of2wrDJ6_uR6",
        "colab_type": "code",
        "outputId": "eb8a046c-3e4b-432b-a6d2-a3f6d53e9b87",
        "colab": {
          "base_uri": "https://localhost:8080/"
        }
      },
      "source": [
        "import pandas as pd\n",
        "#\n",
        "uri=\"https://raw.githubusercontent.com/alura-cursos/introducao-a-data-science/aula4/aula4.1/movies.csv\"\n",
        "filmes=pd.read_csv(uri)\n",
        "#\n",
        "filmes.head()\n"
      ],
      "execution_count": 0,
      "outputs": [
        {
          "output_type": "execute_result",
          "data": {
            "text/html": [
              "<div>\n",
              "<style scoped>\n",
              "    .dataframe tbody tr th:only-of-type {\n",
              "        vertical-align: middle;\n",
              "    }\n",
              "\n",
              "    .dataframe tbody tr th {\n",
              "        vertical-align: top;\n",
              "    }\n",
              "\n",
              "    .dataframe thead th {\n",
              "        text-align: right;\n",
              "    }\n",
              "</style>\n",
              "<table border=\"1\" class=\"dataframe\">\n",
              "  <thead>\n",
              "    <tr style=\"text-align: right;\">\n",
              "      <th></th>\n",
              "      <th>movieId</th>\n",
              "      <th>title</th>\n",
              "      <th>genres</th>\n",
              "    </tr>\n",
              "  </thead>\n",
              "  <tbody>\n",
              "    <tr>\n",
              "      <th>0</th>\n",
              "      <td>1</td>\n",
              "      <td>Toy Story (1995)</td>\n",
              "      <td>Adventure|Animation|Children|Comedy|Fantasy</td>\n",
              "    </tr>\n",
              "    <tr>\n",
              "      <th>1</th>\n",
              "      <td>2</td>\n",
              "      <td>Jumanji (1995)</td>\n",
              "      <td>Adventure|Children|Fantasy</td>\n",
              "    </tr>\n",
              "    <tr>\n",
              "      <th>2</th>\n",
              "      <td>3</td>\n",
              "      <td>Grumpier Old Men (1995)</td>\n",
              "      <td>Comedy|Romance</td>\n",
              "    </tr>\n",
              "    <tr>\n",
              "      <th>3</th>\n",
              "      <td>4</td>\n",
              "      <td>Waiting to Exhale (1995)</td>\n",
              "      <td>Comedy|Drama|Romance</td>\n",
              "    </tr>\n",
              "    <tr>\n",
              "      <th>4</th>\n",
              "      <td>5</td>\n",
              "      <td>Father of the Bride Part II (1995)</td>\n",
              "      <td>Comedy</td>\n",
              "    </tr>\n",
              "  </tbody>\n",
              "</table>\n",
              "</div>"
            ],
            "text/plain": [
              "   movieId  ...                                       genres\n",
              "0        1  ...  Adventure|Animation|Children|Comedy|Fantasy\n",
              "1        2  ...                   Adventure|Children|Fantasy\n",
              "2        3  ...                               Comedy|Romance\n",
              "3        4  ...                         Comedy|Drama|Romance\n",
              "4        5  ...                                       Comedy\n",
              "\n",
              "[5 rows x 3 columns]"
            ]
          },
          "metadata": {
            "tags": []
          },
          "execution_count": 2
        }
      ]
    },
    {
      "cell_type": "markdown",
      "metadata": {
        "id": "ysly1nQ3Zspj",
        "colab_type": "text"
      },
      "source": [
        "### 1.1.2. Informações gerais"
      ]
    },
    {
      "cell_type": "code",
      "metadata": {
        "id": "HYrdmJtNAHcG",
        "colab_type": "code",
        "outputId": "44845733-29cd-48fa-9d9f-a4ad5f9b974f",
        "colab": {
          "base_uri": "https://localhost:8080/",
          "height": 195
        }
      },
      "source": [
        "filmes.columns = ['ID','Titulo','Genero']\n",
        "filmes.tail()"
      ],
      "execution_count": 0,
      "outputs": [
        {
          "output_type": "execute_result",
          "data": {
            "text/html": [
              "<div>\n",
              "<style scoped>\n",
              "    .dataframe tbody tr th:only-of-type {\n",
              "        vertical-align: middle;\n",
              "    }\n",
              "\n",
              "    .dataframe tbody tr th {\n",
              "        vertical-align: top;\n",
              "    }\n",
              "\n",
              "    .dataframe thead th {\n",
              "        text-align: right;\n",
              "    }\n",
              "</style>\n",
              "<table border=\"1\" class=\"dataframe\">\n",
              "  <thead>\n",
              "    <tr style=\"text-align: right;\">\n",
              "      <th></th>\n",
              "      <th>ID</th>\n",
              "      <th>Titulo</th>\n",
              "      <th>Genero</th>\n",
              "    </tr>\n",
              "  </thead>\n",
              "  <tbody>\n",
              "    <tr>\n",
              "      <th>9737</th>\n",
              "      <td>193581</td>\n",
              "      <td>Black Butler: Book of the Atlantic (2017)</td>\n",
              "      <td>Action|Animation|Comedy|Fantasy</td>\n",
              "    </tr>\n",
              "    <tr>\n",
              "      <th>9738</th>\n",
              "      <td>193583</td>\n",
              "      <td>No Game No Life: Zero (2017)</td>\n",
              "      <td>Animation|Comedy|Fantasy</td>\n",
              "    </tr>\n",
              "    <tr>\n",
              "      <th>9739</th>\n",
              "      <td>193585</td>\n",
              "      <td>Flint (2017)</td>\n",
              "      <td>Drama</td>\n",
              "    </tr>\n",
              "    <tr>\n",
              "      <th>9740</th>\n",
              "      <td>193587</td>\n",
              "      <td>Bungo Stray Dogs: Dead Apple (2018)</td>\n",
              "      <td>Action|Animation</td>\n",
              "    </tr>\n",
              "    <tr>\n",
              "      <th>9741</th>\n",
              "      <td>193609</td>\n",
              "      <td>Andrew Dice Clay: Dice Rules (1991)</td>\n",
              "      <td>Comedy</td>\n",
              "    </tr>\n",
              "  </tbody>\n",
              "</table>\n",
              "</div>"
            ],
            "text/plain": [
              "          ID  ...                           Genero\n",
              "9737  193581  ...  Action|Animation|Comedy|Fantasy\n",
              "9738  193583  ...         Animation|Comedy|Fantasy\n",
              "9739  193585  ...                            Drama\n",
              "9740  193587  ...                 Action|Animation\n",
              "9741  193609  ...                           Comedy\n",
              "\n",
              "[5 rows x 3 columns]"
            ]
          },
          "metadata": {
            "tags": []
          },
          "execution_count": 3
        }
      ]
    },
    {
      "cell_type": "code",
      "metadata": {
        "id": "1Yleb8gzBRCj",
        "colab_type": "code",
        "outputId": "a4ace810-8f6c-41f8-ac2d-e0dae31891ca",
        "colab": {
          "base_uri": "https://localhost:8080/",
          "height": 195
        }
      },
      "source": [
        "uri=\"https://raw.githubusercontent.com/alura-cursos/introducao-a-data-science/aula1/aula1.2/ratings.csv\"\n",
        "notas=pd.read_csv(uri)\n",
        "notas.columns=['UsurarioID','FilmeID','Nota','Momento']\n",
        "notas.head()"
      ],
      "execution_count": 0,
      "outputs": [
        {
          "output_type": "execute_result",
          "data": {
            "text/html": [
              "<div>\n",
              "<style scoped>\n",
              "    .dataframe tbody tr th:only-of-type {\n",
              "        vertical-align: middle;\n",
              "    }\n",
              "\n",
              "    .dataframe tbody tr th {\n",
              "        vertical-align: top;\n",
              "    }\n",
              "\n",
              "    .dataframe thead th {\n",
              "        text-align: right;\n",
              "    }\n",
              "</style>\n",
              "<table border=\"1\" class=\"dataframe\">\n",
              "  <thead>\n",
              "    <tr style=\"text-align: right;\">\n",
              "      <th></th>\n",
              "      <th>UsurarioID</th>\n",
              "      <th>FilmeID</th>\n",
              "      <th>Nota</th>\n",
              "      <th>Momento</th>\n",
              "    </tr>\n",
              "  </thead>\n",
              "  <tbody>\n",
              "    <tr>\n",
              "      <th>0</th>\n",
              "      <td>1</td>\n",
              "      <td>1</td>\n",
              "      <td>4.0</td>\n",
              "      <td>964982703</td>\n",
              "    </tr>\n",
              "    <tr>\n",
              "      <th>1</th>\n",
              "      <td>1</td>\n",
              "      <td>3</td>\n",
              "      <td>4.0</td>\n",
              "      <td>964981247</td>\n",
              "    </tr>\n",
              "    <tr>\n",
              "      <th>2</th>\n",
              "      <td>1</td>\n",
              "      <td>6</td>\n",
              "      <td>4.0</td>\n",
              "      <td>964982224</td>\n",
              "    </tr>\n",
              "    <tr>\n",
              "      <th>3</th>\n",
              "      <td>1</td>\n",
              "      <td>47</td>\n",
              "      <td>5.0</td>\n",
              "      <td>964983815</td>\n",
              "    </tr>\n",
              "    <tr>\n",
              "      <th>4</th>\n",
              "      <td>1</td>\n",
              "      <td>50</td>\n",
              "      <td>5.0</td>\n",
              "      <td>964982931</td>\n",
              "    </tr>\n",
              "  </tbody>\n",
              "</table>\n",
              "</div>"
            ],
            "text/plain": [
              "   UsurarioID  FilmeID  Nota    Momento\n",
              "0           1        1   4.0  964982703\n",
              "1           1        3   4.0  964981247\n",
              "2           1        6   4.0  964982224\n",
              "3           1       47   5.0  964983815\n",
              "4           1       50   5.0  964982931"
            ]
          },
          "metadata": {
            "tags": []
          },
          "execution_count": 4
        }
      ]
    },
    {
      "cell_type": "code",
      "metadata": {
        "id": "J-oEwli7EL0S",
        "colab_type": "code",
        "outputId": "cfdb86c5-01ef-4721-9c55-61e94594dc74",
        "colab": {
          "base_uri": "https://localhost:8080/",
          "height": 218
        }
      },
      "source": [
        "notas['Nota'].head #Serie"
      ],
      "execution_count": 0,
      "outputs": [
        {
          "output_type": "execute_result",
          "data": {
            "text/plain": [
              "<bound method NDFrame.head of 0         4.0\n",
              "1         4.0\n",
              "2         4.0\n",
              "3         5.0\n",
              "4         5.0\n",
              "         ... \n",
              "100831    4.0\n",
              "100832    5.0\n",
              "100833    5.0\n",
              "100834    5.0\n",
              "100835    3.0\n",
              "Name: Nota, Length: 100836, dtype: float64>"
            ]
          },
          "metadata": {
            "tags": []
          },
          "execution_count": 5
        }
      ]
    },
    {
      "cell_type": "code",
      "metadata": {
        "id": "IM1iLpjTFEWJ",
        "colab_type": "code",
        "outputId": "49abddab-c096-4b58-8aff-67ba7601c61b",
        "colab": {
          "base_uri": "https://localhost:8080/",
          "height": 34
        }
      },
      "source": [
        "notas['Nota'].unique()"
      ],
      "execution_count": 0,
      "outputs": [
        {
          "output_type": "execute_result",
          "data": {
            "text/plain": [
              "array([4. , 5. , 3. , 2. , 1. , 4.5, 3.5, 2.5, 0.5, 1.5])"
            ]
          },
          "metadata": {
            "tags": []
          },
          "execution_count": 6
        }
      ]
    },
    {
      "cell_type": "code",
      "metadata": {
        "id": "gzm1IeG7Feec",
        "colab_type": "code",
        "outputId": "c1e2f1e1-db71-4da9-b6d9-4bc8c4f08634",
        "colab": {
          "base_uri": "https://localhost:8080/",
          "height": 34
        }
      },
      "source": [
        "notas['Nota'].mean()"
      ],
      "execution_count": 0,
      "outputs": [
        {
          "output_type": "execute_result",
          "data": {
            "text/plain": [
              "3.501556983616962"
            ]
          },
          "metadata": {
            "tags": []
          },
          "execution_count": 7
        }
      ]
    },
    {
      "cell_type": "code",
      "metadata": {
        "id": "FjZvPnT4FoU8",
        "colab_type": "code",
        "outputId": "a5d40538-eb2b-403b-8e18-bc1778a9df17",
        "colab": {
          "base_uri": "https://localhost:8080/",
          "height": 34
        }
      },
      "source": [
        "notas['Nota'].min()"
      ],
      "execution_count": 0,
      "outputs": [
        {
          "output_type": "execute_result",
          "data": {
            "text/plain": [
              "0.5"
            ]
          },
          "metadata": {
            "tags": []
          },
          "execution_count": 8
        }
      ]
    },
    {
      "cell_type": "code",
      "metadata": {
        "id": "m936GipmFpvA",
        "colab_type": "code",
        "outputId": "aa455111-68d0-4435-a0f7-fe1bbbeb4ced",
        "colab": {
          "base_uri": "https://localhost:8080/",
          "height": 34
        }
      },
      "source": [
        "notas['Nota'].max()"
      ],
      "execution_count": 0,
      "outputs": [
        {
          "output_type": "execute_result",
          "data": {
            "text/plain": [
              "5.0"
            ]
          },
          "metadata": {
            "tags": []
          },
          "execution_count": 9
        }
      ]
    },
    {
      "cell_type": "markdown",
      "metadata": {
        "id": "UkF9RGAGdbnm",
        "colab_type": "text"
      },
      "source": [
        "## 1.2. Analise de notas (Descritiva, Histograma e Boxplot)"
      ]
    },
    {
      "cell_type": "code",
      "metadata": {
        "id": "4bESkbdeFrWk",
        "colab_type": "code",
        "outputId": "f9fcd01f-6bc4-4afb-b9c1-f92864d589ec",
        "colab": {
          "base_uri": "https://localhost:8080/",
          "height": 284
        }
      },
      "source": [
        "notas.describe()"
      ],
      "execution_count": 0,
      "outputs": [
        {
          "output_type": "execute_result",
          "data": {
            "text/html": [
              "<div>\n",
              "<style scoped>\n",
              "    .dataframe tbody tr th:only-of-type {\n",
              "        vertical-align: middle;\n",
              "    }\n",
              "\n",
              "    .dataframe tbody tr th {\n",
              "        vertical-align: top;\n",
              "    }\n",
              "\n",
              "    .dataframe thead th {\n",
              "        text-align: right;\n",
              "    }\n",
              "</style>\n",
              "<table border=\"1\" class=\"dataframe\">\n",
              "  <thead>\n",
              "    <tr style=\"text-align: right;\">\n",
              "      <th></th>\n",
              "      <th>UsurarioID</th>\n",
              "      <th>FilmeID</th>\n",
              "      <th>Nota</th>\n",
              "      <th>Momento</th>\n",
              "    </tr>\n",
              "  </thead>\n",
              "  <tbody>\n",
              "    <tr>\n",
              "      <th>count</th>\n",
              "      <td>100836.000000</td>\n",
              "      <td>100836.000000</td>\n",
              "      <td>100836.000000</td>\n",
              "      <td>1.008360e+05</td>\n",
              "    </tr>\n",
              "    <tr>\n",
              "      <th>mean</th>\n",
              "      <td>326.127564</td>\n",
              "      <td>19435.295718</td>\n",
              "      <td>3.501557</td>\n",
              "      <td>1.205946e+09</td>\n",
              "    </tr>\n",
              "    <tr>\n",
              "      <th>std</th>\n",
              "      <td>182.618491</td>\n",
              "      <td>35530.987199</td>\n",
              "      <td>1.042529</td>\n",
              "      <td>2.162610e+08</td>\n",
              "    </tr>\n",
              "    <tr>\n",
              "      <th>min</th>\n",
              "      <td>1.000000</td>\n",
              "      <td>1.000000</td>\n",
              "      <td>0.500000</td>\n",
              "      <td>8.281246e+08</td>\n",
              "    </tr>\n",
              "    <tr>\n",
              "      <th>25%</th>\n",
              "      <td>177.000000</td>\n",
              "      <td>1199.000000</td>\n",
              "      <td>3.000000</td>\n",
              "      <td>1.019124e+09</td>\n",
              "    </tr>\n",
              "    <tr>\n",
              "      <th>50%</th>\n",
              "      <td>325.000000</td>\n",
              "      <td>2991.000000</td>\n",
              "      <td>3.500000</td>\n",
              "      <td>1.186087e+09</td>\n",
              "    </tr>\n",
              "    <tr>\n",
              "      <th>75%</th>\n",
              "      <td>477.000000</td>\n",
              "      <td>8122.000000</td>\n",
              "      <td>4.000000</td>\n",
              "      <td>1.435994e+09</td>\n",
              "    </tr>\n",
              "    <tr>\n",
              "      <th>max</th>\n",
              "      <td>610.000000</td>\n",
              "      <td>193609.000000</td>\n",
              "      <td>5.000000</td>\n",
              "      <td>1.537799e+09</td>\n",
              "    </tr>\n",
              "  </tbody>\n",
              "</table>\n",
              "</div>"
            ],
            "text/plain": [
              "          UsurarioID        FilmeID           Nota       Momento\n",
              "count  100836.000000  100836.000000  100836.000000  1.008360e+05\n",
              "mean      326.127564   19435.295718       3.501557  1.205946e+09\n",
              "std       182.618491   35530.987199       1.042529  2.162610e+08\n",
              "min         1.000000       1.000000       0.500000  8.281246e+08\n",
              "25%       177.000000    1199.000000       3.000000  1.019124e+09\n",
              "50%       325.000000    2991.000000       3.500000  1.186087e+09\n",
              "75%       477.000000    8122.000000       4.000000  1.435994e+09\n",
              "max       610.000000  193609.000000       5.000000  1.537799e+09"
            ]
          },
          "metadata": {
            "tags": []
          },
          "execution_count": 10
        }
      ]
    },
    {
      "cell_type": "code",
      "metadata": {
        "id": "HA5AaC38F2FS",
        "colab_type": "code",
        "outputId": "825cf33a-23d9-4678-bbf1-3b716ed2f454",
        "colab": {
          "base_uri": "https://localhost:8080/",
          "height": 118
        }
      },
      "source": [
        "notas.Nota.head()"
      ],
      "execution_count": 0,
      "outputs": [
        {
          "output_type": "execute_result",
          "data": {
            "text/plain": [
              "0    4.0\n",
              "1    4.0\n",
              "2    4.0\n",
              "3    5.0\n",
              "4    5.0\n",
              "Name: Nota, dtype: float64"
            ]
          },
          "metadata": {
            "tags": []
          },
          "execution_count": 11
        }
      ]
    },
    {
      "cell_type": "code",
      "metadata": {
        "id": "axP5CE3RX-K0",
        "colab_type": "code",
        "outputId": "28981e8a-0742-4dc9-f40b-6ce4355c4cf6",
        "colab": {
          "base_uri": "https://localhost:8080/",
          "height": 282
        }
      },
      "source": [
        "notas.Nota.plot(kind='hist')"
      ],
      "execution_count": 0,
      "outputs": [
        {
          "output_type": "execute_result",
          "data": {
            "text/plain": [
              "<matplotlib.axes._subplots.AxesSubplot at 0x7f337d277780>"
            ]
          },
          "metadata": {
            "tags": []
          },
          "execution_count": 12
        },
        {
          "output_type": "display_data",
          "data": {
            "image/png": "[encoded data removed]",
            "text/plain": [
              "<Figure size 432x288 with 1 Axes>"
            ]
          },
          "metadata": {
            "tags": []
          }
        }
      ]
    },
    {
      "cell_type": "code",
      "metadata": {
        "id": "CnN-30wYYQVW",
        "colab_type": "code",
        "outputId": "9ee85de4-9a40-46b7-809c-2aacd3d5c2fa",
        "colab": {
          "base_uri": "https://localhost:8080/",
          "height": 168
        }
      },
      "source": [
        "notas.Nota.describe()"
      ],
      "execution_count": 0,
      "outputs": [
        {
          "output_type": "execute_result",
          "data": {
            "text/plain": [
              "count    100836.000000\n",
              "mean          3.501557\n",
              "std           1.042529\n",
              "min           0.500000\n",
              "25%           3.000000\n",
              "50%           3.500000\n",
              "75%           4.000000\n",
              "max           5.000000\n",
              "Name: Nota, dtype: float64"
            ]
          },
          "metadata": {
            "tags": []
          },
          "execution_count": 13
        }
      ]
    },
    {
      "cell_type": "code",
      "metadata": {
        "id": "qQTDS_KDZdaw",
        "colab_type": "code",
        "colab": {}
      },
      "source": [
        "import seaborn as sns"
      ],
      "execution_count": 0,
      "outputs": []
    },
    {
      "cell_type": "code",
      "metadata": {
        "id": "HQ42CxN6Zr86",
        "colab_type": "code",
        "outputId": "dad02926-6ba3-45cf-e20a-728eaf0cfd25",
        "colab": {
          "base_uri": "https://localhost:8080/",
          "height": 296
        }
      },
      "source": [
        "sns.boxplot(notas.Nota)"
      ],
      "execution_count": 0,
      "outputs": [
        {
          "output_type": "execute_result",
          "data": {
            "text/plain": [
              "<matplotlib.axes._subplots.AxesSubplot at 0x7f337cd05f60>"
            ]
          },
          "metadata": {
            "tags": []
          },
          "execution_count": 15
        },
        {
          "output_type": "display_data",
          "data": {
            "image/png": "[encoded data removed]",
            "text/plain": [
              "<Figure size 432x288 with 1 Axes>"
            ]
          },
          "metadata": {
            "tags": []
          }
        }
      ]
    },
    {
      "cell_type": "markdown",
      "metadata": {
        "id": "bcymkhW0dIqH",
        "colab_type": "text"
      },
      "source": [
        "## 1.3. Análise notas de filmes epecificos (Querys e SeaBorn)"
      ]
    },
    {
      "cell_type": "code",
      "metadata": {
        "id": "kqSDhneLZ2D6",
        "colab_type": "code",
        "outputId": "bc8983d8-3165-4e0f-b55a-18c7cc92871d",
        "colab": {
          "base_uri": "https://localhost:8080/",
          "height": 34
        }
      },
      "source": [
        "notas.query('FilmeID==1').Nota.mean()"
      ],
      "execution_count": 0,
      "outputs": [
        {
          "output_type": "execute_result",
          "data": {
            "text/plain": [
              "3.9209302325581397"
            ]
          },
          "metadata": {
            "tags": []
          },
          "execution_count": 16
        }
      ]
    },
    {
      "cell_type": "code",
      "metadata": {
        "id": "JOkwLicicsJ8",
        "colab_type": "code",
        "outputId": "c7efb3c1-1c40-46da-9599-00ef5dd2ecf0",
        "colab": {
          "base_uri": "https://localhost:8080/",
          "height": 235
        }
      },
      "source": [
        "media_por_filme=notas.groupby('FilmeID').Nota.mean()\n",
        "media_por_filme"
      ],
      "execution_count": 0,
      "outputs": [
        {
          "output_type": "execute_result",
          "data": {
            "text/plain": [
              "FilmeID\n",
              "1         3.920930\n",
              "2         3.431818\n",
              "3         3.259615\n",
              "4         2.357143\n",
              "5         3.071429\n",
              "            ...   \n",
              "193581    4.000000\n",
              "193583    3.500000\n",
              "193585    3.500000\n",
              "193587    3.500000\n",
              "193609    4.000000\n",
              "Name: Nota, Length: 9724, dtype: float64"
            ]
          },
          "metadata": {
            "tags": []
          },
          "execution_count": 82
        }
      ]
    },
    {
      "cell_type": "code",
      "metadata": {
        "id": "s_MtF9jteGLd",
        "colab_type": "code",
        "outputId": "4086c3df-377c-46c3-cead-776be3fa8f5d",
        "colab": {
          "base_uri": "https://localhost:8080/",
          "height": 282
        }
      },
      "source": [
        "media_por_filme.plot(kind='hist')"
      ],
      "execution_count": 0,
      "outputs": [
        {
          "output_type": "execute_result",
          "data": {
            "text/plain": [
              "<matplotlib.axes._subplots.AxesSubplot at 0x7f337ca78208>"
            ]
          },
          "metadata": {
            "tags": []
          },
          "execution_count": 18
        },
        {
          "output_type": "display_data",
          "data": {
            "image/png": "[encoded data removed]",
            "text/plain": [
              "<Figure size 432x288 with 1 Axes>"
            ]
          },
          "metadata": {
            "tags": []
          }
        }
      ]
    },
    {
      "cell_type": "code",
      "metadata": {
        "id": "G_gLZOmhfGpW",
        "colab_type": "code",
        "outputId": "9027fca5-15df-4a1a-8de6-1b9d2bf55f28",
        "colab": {
          "base_uri": "https://localhost:8080/",
          "height": 296
        }
      },
      "source": [
        "sns.boxplot(media_por_filme)"
      ],
      "execution_count": 0,
      "outputs": [
        {
          "output_type": "execute_result",
          "data": {
            "text/plain": [
              "<matplotlib.axes._subplots.AxesSubplot at 0x7f337b9e6630>"
            ]
          },
          "metadata": {
            "tags": []
          },
          "execution_count": 19
        },
        {
          "output_type": "display_data",
          "data": {
            "image/png": "[encoded data removed]",
            "text/plain": [
              "<Figure size 432x288 with 1 Axes>"
            ]
          },
          "metadata": {
            "tags": []
          }
        }
      ]
    },
    {
      "cell_type": "code",
      "metadata": {
        "id": "4Qr_KWeEfXlp",
        "colab_type": "code",
        "outputId": "4cf0448b-12fc-46db-960d-eab2384265f6",
        "colab": {
          "base_uri": "https://localhost:8080/",
          "height": 168
        }
      },
      "source": [
        "media_por_filme.describe()"
      ],
      "execution_count": 0,
      "outputs": [
        {
          "output_type": "execute_result",
          "data": {
            "text/plain": [
              "count    9724.000000\n",
              "mean        3.262448\n",
              "std         0.869874\n",
              "min         0.500000\n",
              "25%         2.800000\n",
              "50%         3.416667\n",
              "75%         3.911765\n",
              "max         5.000000\n",
              "Name: Nota, dtype: float64"
            ]
          },
          "metadata": {
            "tags": []
          },
          "execution_count": 20
        }
      ]
    },
    {
      "cell_type": "code",
      "metadata": {
        "id": "VycWDcbZfgf5",
        "colab_type": "code",
        "outputId": "a2c195f1-bba0-490c-9c20-4f310259d64c",
        "colab": {
          "base_uri": "https://localhost:8080/",
          "height": 296
        }
      },
      "source": [
        "sns.distplot(media_por_filme,bins=10)"
      ],
      "execution_count": 0,
      "outputs": [
        {
          "output_type": "execute_result",
          "data": {
            "text/plain": [
              "<matplotlib.axes._subplots.AxesSubplot at 0x7f337b9439e8>"
            ]
          },
          "metadata": {
            "tags": []
          },
          "execution_count": 21
        },
        {
          "output_type": "display_data",
          "data": {
            "image/png": "[encoded data removed]",
            "text/plain": [
              "<Figure size 432x288 with 1 Axes>"
            ]
          },
          "metadata": {
            "tags": []
          }
        }
      ]
    },
    {
      "cell_type": "markdown",
      "metadata": {
        "id": "icVAiSSgl9jZ",
        "colab_type": "text"
      },
      "source": [
        "## 1.4. Filmes do TMDB (Tratamento de dados e Data Visualization)"
      ]
    },
    {
      "cell_type": "code",
      "metadata": {
        "id": "8eLI_Bd_fsxg",
        "colab_type": "code",
        "outputId": "1c2dc938-8190-46ac-8048-92f76da21b7a",
        "colab": {
          "base_uri": "https://localhost:8080/"
        }
      },
      "source": [
        "uri='https://raw.githubusercontent.com/FelipeRamosOliveira/DataFrames/master/tmdb_5000_movies.csv'\n",
        "tmdb=pd.read_csv(uri)\n",
        "tmdb.head(1)\n"
      ],
      "execution_count": 0,
      "outputs": [
        {
          "output_type": "execute_result",
          "data": {
            "text/html": [
              "<div>\n",
              "<style scoped>\n",
              "    .dataframe tbody tr th:only-of-type {\n",
              "        vertical-align: middle;\n",
              "    }\n",
              "\n",
              "    .dataframe tbody tr th {\n",
              "        vertical-align: top;\n",
              "    }\n",
              "\n",
              "    .dataframe thead th {\n",
              "        text-align: right;\n",
              "    }\n",
              "</style>\n",
              "<table border=\"1\" class=\"dataframe\">\n",
              "  <thead>\n",
              "    <tr style=\"text-align: right;\">\n",
              "      <th></th>\n",
              "      <th>budget</th>\n",
              "      <th>genres</th>\n",
              "      <th>homepage</th>\n",
              "      <th>id</th>\n",
              "      <th>keywords</th>\n",
              "      <th>original_language</th>\n",
              "      <th>original_title</th>\n",
              "      <th>overview</th>\n",
              "      <th>popularity</th>\n",
              "      <th>production_companies</th>\n",
              "      <th>production_countries</th>\n",
              "      <th>release_date</th>\n",
              "      <th>revenue</th>\n",
              "      <th>runtime</th>\n",
              "      <th>spoken_languages</th>\n",
              "      <th>status</th>\n",
              "      <th>tagline</th>\n",
              "      <th>title</th>\n",
              "      <th>vote_average</th>\n",
              "      <th>vote_count</th>\n",
              "    </tr>\n",
              "  </thead>\n",
              "  <tbody>\n",
              "    <tr>\n",
              "      <th>0</th>\n",
              "      <td>237000000</td>\n",
              "      <td>[{\"id\": 28, \"name\": \"Action\"}, {\"id\": 12, \"nam...</td>\n",
              "      <td>http://www.avatarmovie.com/</td>\n",
              "      <td>19995</td>\n",
              "      <td>[{\"id\": 1463, \"name\": \"culture clash\"}, {\"id\":...</td>\n",
              "      <td>en</td>\n",
              "      <td>Avatar</td>\n",
              "      <td>In the 22nd century, a paraplegic Marine is di...</td>\n",
              "      <td>150.437577</td>\n",
              "      <td>[{\"name\": \"Ingenious Film Partners\", \"id\": 289...</td>\n",
              "      <td>[{\"iso_3166_1\": \"US\", \"name\": \"United States o...</td>\n",
              "      <td>2009-12-10</td>\n",
              "      <td>2787965087</td>\n",
              "      <td>162.0</td>\n",
              "      <td>[{\"iso_639_1\": \"en\", \"name\": \"English\"}, {\"iso...</td>\n",
              "      <td>Released</td>\n",
              "      <td>Enter the World of Pandora.</td>\n",
              "      <td>Avatar</td>\n",
              "      <td>7.2</td>\n",
              "      <td>11800</td>\n",
              "    </tr>\n",
              "  </tbody>\n",
              "</table>\n",
              "</div>"
            ],
            "text/plain": [
              "      budget  ... vote_count\n",
              "0  237000000  ...      11800\n",
              "\n",
              "[1 rows x 20 columns]"
            ]
          },
          "metadata": {
            "tags": []
          },
          "execution_count": 22
        }
      ]
    },
    {
      "cell_type": "code",
      "metadata": {
        "id": "K3eFCNoTkhNo",
        "colab_type": "code",
        "outputId": "c58d578d-b6be-4fa7-ac14-35982b0a0a7b",
        "colab": {
          "base_uri": "https://localhost:8080/"
        }
      },
      "source": [
        "tmdb.original_language.unique()"
      ],
      "execution_count": 0,
      "outputs": [
        {
          "output_type": "execute_result",
          "data": {
            "text/plain": [
              "array(['en', 'ja', 'fr', 'zh', 'es', 'de', 'hi', 'ru', 'ko', 'te', 'cn',\n",
              "       'it', 'nl', 'ta', 'sv', 'th', 'da', 'xx', 'hu', 'cs', 'pt', 'is',\n",
              "       'tr', 'nb', 'af', 'pl', 'he', 'ar', 'vi', 'ky', 'id', 'ro', 'fa',\n",
              "       'no', 'sl', 'ps', 'el'], dtype=object)"
            ]
          },
          "metadata": {
            "tags": []
          },
          "execution_count": 23
        }
      ]
    },
    {
      "cell_type": "code",
      "metadata": {
        "id": "31dZEJqumQtN",
        "colab_type": "code",
        "outputId": "b55d7b5a-bfa8-4757-a140-baf9a15d48df",
        "colab": {
          "base_uri": "https://localhost:8080/"
        }
      },
      "source": [
        "tmdb.budget.describe()"
      ],
      "execution_count": 0,
      "outputs": [
        {
          "output_type": "execute_result",
          "data": {
            "text/plain": [
              "count    4.803000e+03\n",
              "mean     2.904504e+07\n",
              "std      4.072239e+07\n",
              "min      0.000000e+00\n",
              "25%      7.900000e+05\n",
              "50%      1.500000e+07\n",
              "75%      4.000000e+07\n",
              "max      3.800000e+08\n",
              "Name: budget, dtype: float64"
            ]
          },
          "metadata": {
            "tags": []
          },
          "execution_count": 24
        }
      ]
    },
    {
      "cell_type": "code",
      "metadata": {
        "id": "iahaetLJnXZ5",
        "colab_type": "code",
        "outputId": "c8dc4242-4dc7-4165-ac51-913ebfc1c87e",
        "colab": {
          "base_uri": "https://localhost:8080/"
        }
      },
      "source": [
        "tmdb['original_language'].value_counts().index"
      ],
      "execution_count": 0,
      "outputs": [
        {
          "output_type": "execute_result",
          "data": {
            "text/plain": [
              "Index(['en', 'fr', 'es', 'de', 'zh', 'hi', 'ja', 'it', 'cn', 'ru', 'ko', 'pt',\n",
              "       'da', 'sv', 'nl', 'fa', 'he', 'th', 'ta', 'ro', 'cs', 'id', 'ar', 'el',\n",
              "       'ps', 'vi', 'hu', 'te', 'sl', 'nb', 'pl', 'tr', 'no', 'is', 'ky', 'af',\n",
              "       'xx'],\n",
              "      dtype='object')"
            ]
          },
          "metadata": {
            "tags": []
          },
          "execution_count": 25
        }
      ]
    },
    {
      "cell_type": "code",
      "metadata": {
        "id": "f0S52XEFoLvM",
        "colab_type": "code",
        "outputId": "d494416f-4788-4a4b-cf38-beb4c315ad1d",
        "colab": {
          "base_uri": "https://localhost:8080/"
        }
      },
      "source": [
        "tmdb['original_language'].value_counts().values"
      ],
      "execution_count": 0,
      "outputs": [
        {
          "output_type": "execute_result",
          "data": {
            "text/plain": [
              "array([4505,   70,   32,   27,   27,   19,   16,   14,   12,   11,   11,\n",
              "          9,    7,    5,    4,    4,    3,    3,    2,    2,    2,    2,\n",
              "          2,    1,    1,    1,    1,    1,    1,    1,    1,    1,    1,\n",
              "          1,    1,    1,    1])"
            ]
          },
          "metadata": {
            "tags": []
          },
          "execution_count": 26
        }
      ]
    },
    {
      "cell_type": "code",
      "metadata": {
        "id": "aeA7AVRNpA-c",
        "colab_type": "code",
        "outputId": "fe70ca24-40a4-4516-bb7d-1314c2afa722",
        "colab": {
          "base_uri": "https://localhost:8080/"
        }
      },
      "source": [
        "tmdb['original_language'].value_counts().to_frame()"
      ],
      "execution_count": 0,
      "outputs": [
        {
          "output_type": "execute_result",
          "data": {
            "text/html": [
              "<div>\n",
              "<style scoped>\n",
              "    .dataframe tbody tr th:only-of-type {\n",
              "        vertical-align: middle;\n",
              "    }\n",
              "\n",
              "    .dataframe tbody tr th {\n",
              "        vertical-align: top;\n",
              "    }\n",
              "\n",
              "    .dataframe thead th {\n",
              "        text-align: right;\n",
              "    }\n",
              "</style>\n",
              "<table border=\"1\" class=\"dataframe\">\n",
              "  <thead>\n",
              "    <tr style=\"text-align: right;\">\n",
              "      <th></th>\n",
              "      <th>original_language</th>\n",
              "    </tr>\n",
              "  </thead>\n",
              "  <tbody>\n",
              "    <tr>\n",
              "      <th>en</th>\n",
              "      <td>4505</td>\n",
              "    </tr>\n",
              "    <tr>\n",
              "      <th>fr</th>\n",
              "      <td>70</td>\n",
              "    </tr>\n",
              "    <tr>\n",
              "      <th>es</th>\n",
              "      <td>32</td>\n",
              "    </tr>\n",
              "    <tr>\n",
              "      <th>de</th>\n",
              "      <td>27</td>\n",
              "    </tr>\n",
              "    <tr>\n",
              "      <th>zh</th>\n",
              "      <td>27</td>\n",
              "    </tr>\n",
              "    <tr>\n",
              "      <th>hi</th>\n",
              "      <td>19</td>\n",
              "    </tr>\n",
              "    <tr>\n",
              "      <th>ja</th>\n",
              "      <td>16</td>\n",
              "    </tr>\n",
              "    <tr>\n",
              "      <th>it</th>\n",
              "      <td>14</td>\n",
              "    </tr>\n",
              "    <tr>\n",
              "      <th>cn</th>\n",
              "      <td>12</td>\n",
              "    </tr>\n",
              "    <tr>\n",
              "      <th>ru</th>\n",
              "      <td>11</td>\n",
              "    </tr>\n",
              "    <tr>\n",
              "      <th>ko</th>\n",
              "      <td>11</td>\n",
              "    </tr>\n",
              "    <tr>\n",
              "      <th>pt</th>\n",
              "      <td>9</td>\n",
              "    </tr>\n",
              "    <tr>\n",
              "      <th>da</th>\n",
              "      <td>7</td>\n",
              "    </tr>\n",
              "    <tr>\n",
              "      <th>sv</th>\n",
              "      <td>5</td>\n",
              "    </tr>\n",
              "    <tr>\n",
              "      <th>nl</th>\n",
              "      <td>4</td>\n",
              "    </tr>\n",
              "    <tr>\n",
              "      <th>fa</th>\n",
              "      <td>4</td>\n",
              "    </tr>\n",
              "    <tr>\n",
              "      <th>he</th>\n",
              "      <td>3</td>\n",
              "    </tr>\n",
              "    <tr>\n",
              "      <th>th</th>\n",
              "      <td>3</td>\n",
              "    </tr>\n",
              "    <tr>\n",
              "      <th>ta</th>\n",
              "      <td>2</td>\n",
              "    </tr>\n",
              "    <tr>\n",
              "      <th>ro</th>\n",
              "      <td>2</td>\n",
              "    </tr>\n",
              "    <tr>\n",
              "      <th>cs</th>\n",
              "      <td>2</td>\n",
              "    </tr>\n",
              "    <tr>\n",
              "      <th>id</th>\n",
              "      <td>2</td>\n",
              "    </tr>\n",
              "    <tr>\n",
              "      <th>ar</th>\n",
              "      <td>2</td>\n",
              "    </tr>\n",
              "    <tr>\n",
              "      <th>el</th>\n",
              "      <td>1</td>\n",
              "    </tr>\n",
              "    <tr>\n",
              "      <th>ps</th>\n",
              "      <td>1</td>\n",
              "    </tr>\n",
              "    <tr>\n",
              "      <th>vi</th>\n",
              "      <td>1</td>\n",
              "    </tr>\n",
              "    <tr>\n",
              "      <th>hu</th>\n",
              "      <td>1</td>\n",
              "    </tr>\n",
              "    <tr>\n",
              "      <th>te</th>\n",
              "      <td>1</td>\n",
              "    </tr>\n",
              "    <tr>\n",
              "      <th>sl</th>\n",
              "      <td>1</td>\n",
              "    </tr>\n",
              "    <tr>\n",
              "      <th>nb</th>\n",
              "      <td>1</td>\n",
              "    </tr>\n",
              "    <tr>\n",
              "      <th>pl</th>\n",
              "      <td>1</td>\n",
              "    </tr>\n",
              "    <tr>\n",
              "      <th>tr</th>\n",
              "      <td>1</td>\n",
              "    </tr>\n",
              "    <tr>\n",
              "      <th>no</th>\n",
              "      <td>1</td>\n",
              "    </tr>\n",
              "    <tr>\n",
              "      <th>is</th>\n",
              "      <td>1</td>\n",
              "    </tr>\n",
              "    <tr>\n",
              "      <th>ky</th>\n",
              "      <td>1</td>\n",
              "    </tr>\n",
              "    <tr>\n",
              "      <th>af</th>\n",
              "      <td>1</td>\n",
              "    </tr>\n",
              "    <tr>\n",
              "      <th>xx</th>\n",
              "      <td>1</td>\n",
              "    </tr>\n",
              "  </tbody>\n",
              "</table>\n",
              "</div>"
            ],
            "text/plain": [
              "    original_language\n",
              "en               4505\n",
              "fr                 70\n",
              "es                 32\n",
              "de                 27\n",
              "zh                 27\n",
              "hi                 19\n",
              "ja                 16\n",
              "it                 14\n",
              "cn                 12\n",
              "ru                 11\n",
              "ko                 11\n",
              "pt                  9\n",
              "da                  7\n",
              "sv                  5\n",
              "nl                  4\n",
              "fa                  4\n",
              "he                  3\n",
              "th                  3\n",
              "ta                  2\n",
              "ro                  2\n",
              "cs                  2\n",
              "id                  2\n",
              "ar                  2\n",
              "el                  1\n",
              "ps                  1\n",
              "vi                  1\n",
              "hu                  1\n",
              "te                  1\n",
              "sl                  1\n",
              "nb                  1\n",
              "pl                  1\n",
              "tr                  1\n",
              "no                  1\n",
              "is                  1\n",
              "ky                  1\n",
              "af                  1\n",
              "xx                  1"
            ]
          },
          "metadata": {
            "tags": []
          },
          "execution_count": 27
        }
      ]
    },
    {
      "cell_type": "code",
      "metadata": {
        "id": "_5ytO_b-pGu2",
        "colab_type": "code",
        "outputId": "412c342c-4d1a-4f44-894f-cb895544959b",
        "colab": {
          "base_uri": "https://localhost:8080/"
        }
      },
      "source": [
        "contagem_de_lingua=tmdb['original_language'].value_counts().to_frame().reset_index()\n",
        "contagem_de_lingua.columns=['original_language','total']\n",
        "contagem_de_lingua.head()\n"
      ],
      "execution_count": 0,
      "outputs": [
        {
          "output_type": "execute_result",
          "data": {
            "text/html": [
              "<div>\n",
              "<style scoped>\n",
              "    .dataframe tbody tr th:only-of-type {\n",
              "        vertical-align: middle;\n",
              "    }\n",
              "\n",
              "    .dataframe tbody tr th {\n",
              "        vertical-align: top;\n",
              "    }\n",
              "\n",
              "    .dataframe thead th {\n",
              "        text-align: right;\n",
              "    }\n",
              "</style>\n",
              "<table border=\"1\" class=\"dataframe\">\n",
              "  <thead>\n",
              "    <tr style=\"text-align: right;\">\n",
              "      <th></th>\n",
              "      <th>original_language</th>\n",
              "      <th>total</th>\n",
              "    </tr>\n",
              "  </thead>\n",
              "  <tbody>\n",
              "    <tr>\n",
              "      <th>0</th>\n",
              "      <td>en</td>\n",
              "      <td>4505</td>\n",
              "    </tr>\n",
              "    <tr>\n",
              "      <th>1</th>\n",
              "      <td>fr</td>\n",
              "      <td>70</td>\n",
              "    </tr>\n",
              "    <tr>\n",
              "      <th>2</th>\n",
              "      <td>es</td>\n",
              "      <td>32</td>\n",
              "    </tr>\n",
              "    <tr>\n",
              "      <th>3</th>\n",
              "      <td>de</td>\n",
              "      <td>27</td>\n",
              "    </tr>\n",
              "    <tr>\n",
              "      <th>4</th>\n",
              "      <td>zh</td>\n",
              "      <td>27</td>\n",
              "    </tr>\n",
              "  </tbody>\n",
              "</table>\n",
              "</div>"
            ],
            "text/plain": [
              "  original_language  total\n",
              "0                en   4505\n",
              "1                fr     70\n",
              "2                es     32\n",
              "3                de     27\n",
              "4                zh     27"
            ]
          },
          "metadata": {
            "tags": []
          },
          "execution_count": 28
        }
      ]
    },
    {
      "cell_type": "code",
      "metadata": {
        "id": "Avc9-iR6pSOx",
        "colab_type": "code",
        "outputId": "25b49331-16c6-4bef-d0a2-2f29e1bec16a",
        "colab": {
          "base_uri": "https://localhost:8080/"
        }
      },
      "source": [
        "sns.barplot(x='original_language',y='total',data=contagem_de_lingua)"
      ],
      "execution_count": 0,
      "outputs": [
        {
          "output_type": "execute_result",
          "data": {
            "text/plain": [
              "<matplotlib.axes._subplots.AxesSubplot at 0x7f337b473518>"
            ]
          },
          "metadata": {
            "tags": []
          },
          "execution_count": 29
        },
        {
          "output_type": "display_data",
          "data": {
            "image/png": "[encoded data removed]",
            "text/plain": [
              "<Figure size 432x288 with 1 Axes>"
            ]
          },
          "metadata": {
            "tags": []
          }
        }
      ]
    },
    {
      "cell_type": "code",
      "metadata": {
        "id": "hBa1kAyTqA9t",
        "colab_type": "code",
        "outputId": "528d1068-d9a6-498c-d3cc-a8c67d5ffb01",
        "colab": {
          "base_uri": "https://localhost:8080/"
        }
      },
      "source": [
        "sns.catplot(x='original_language', kind='count', data=tmdb)"
      ],
      "execution_count": 0,
      "outputs": [
        {
          "output_type": "execute_result",
          "data": {
            "text/plain": [
              "<seaborn.axisgrid.FacetGrid at 0x7f337b3c8f28>"
            ]
          },
          "metadata": {
            "tags": []
          },
          "execution_count": 30
        },
        {
          "output_type": "display_data",
          "data": {
            "image/png": "[encoded data removed]",
            "text/plain": [
              "<Figure size 360x360 with 1 Axes>"
            ]
          },
          "metadata": {
            "tags": []
          }
        }
      ]
    },
    {
      "cell_type": "code",
      "metadata": {
        "id": "AajLppiirCew",
        "colab_type": "code",
        "outputId": "d370397a-56a0-481c-9d02-3b15ab031de7",
        "colab": {
          "base_uri": "https://localhost:8080/"
        }
      },
      "source": [
        "import matplotlib.pyplot as plt\n",
        "\n",
        "plt.pie(contagem_de_lingua.total,labels=contagem_de_lingua.original_language)"
      ],
      "execution_count": 0,
      "outputs": [
        {
          "output_type": "execute_result",
          "data": {
            "text/plain": [
              "([<matplotlib.patches.Wedge at 0x7f3378942438>,\n",
              "  <matplotlib.patches.Wedge at 0x7f3378942940>,\n",
              "  <matplotlib.patches.Wedge at 0x7f3378942dd8>,\n",
              "  <matplotlib.patches.Wedge at 0x7f33789512b0>,\n",
              "  <matplotlib.patches.Wedge at 0x7f3378951748>,\n",
              "  <matplotlib.patches.Wedge at 0x7f3378951be0>,\n",
              "  <matplotlib.patches.Wedge at 0x7f337895e0b8>,\n",
              "  <matplotlib.patches.Wedge at 0x7f337895e550>,\n",
              "  <matplotlib.patches.Wedge at 0x7f337895e9e8>,\n",
              "  <matplotlib.patches.Wedge at 0x7f337895ee80>,\n",
              "  <matplotlib.patches.Wedge at 0x7f337899a7f0>,\n",
              "  <matplotlib.patches.Wedge at 0x7f337896b7b8>,\n",
              "  <matplotlib.patches.Wedge at 0x7f337896bc50>,\n",
              "  <matplotlib.patches.Wedge at 0x7f3378979128>,\n",
              "  <matplotlib.patches.Wedge at 0x7f33789795c0>,\n",
              "  <matplotlib.patches.Wedge at 0x7f3378979a58>,\n",
              "  <matplotlib.patches.Wedge at 0x7f3378979ef0>,\n",
              "  <matplotlib.patches.Wedge at 0x7f33789063c8>,\n",
              "  <matplotlib.patches.Wedge at 0x7f3378906860>,\n",
              "  <matplotlib.patches.Wedge at 0x7f3378906cf8>,\n",
              "  <matplotlib.patches.Wedge at 0x7f33789121d0>,\n",
              "  <matplotlib.patches.Wedge at 0x7f3378912668>,\n",
              "  <matplotlib.patches.Wedge at 0x7f3378912b00>,\n",
              "  <matplotlib.patches.Wedge at 0x7f3378912f98>,\n",
              "  <matplotlib.patches.Wedge at 0x7f3378920470>,\n",
              "  <matplotlib.patches.Wedge at 0x7f3378920908>,\n",
              "  <matplotlib.patches.Wedge at 0x7f3378920da0>,\n",
              "  <matplotlib.patches.Wedge at 0x7f337892d278>,\n",
              "  <matplotlib.patches.Wedge at 0x7f337892d710>,\n",
              "  <matplotlib.patches.Wedge at 0x7f337892dba8>,\n",
              "  <matplotlib.patches.Wedge at 0x7f3378939080>,\n",
              "  <matplotlib.patches.Wedge at 0x7f3378939518>,\n",
              "  <matplotlib.patches.Wedge at 0x7f33789399b0>,\n",
              "  <matplotlib.patches.Wedge at 0x7f3378939e48>,\n",
              "  <matplotlib.patches.Wedge at 0x7f33788c7320>,\n",
              "  <matplotlib.patches.Wedge at 0x7f33788c77b8>,\n",
              "  <matplotlib.patches.Wedge at 0x7f33788c7c50>],\n",
              " [Text(-1.0791697536499925, 0.2130554923183512, 'en'),\n",
              "  Text(1.0355355017029462, -0.3710339940124459, 'fr'),\n",
              "  Text(1.0579676486019882, -0.3011718023181785, 'es'),\n",
              "  Text(1.0687996606645356, -0.26012936274741094, 'de'),\n",
              "  Text(1.0773191105706255, -0.22222406260195313, 'zh'),\n",
              "  Text(1.0835167978583342, -0.18971386021801853, 'hi'),\n",
              "  Text(1.0875756432724297, -0.16486121484618815, 'ja'),\n",
              "  Text(1.0906010773146022, -0.14348968659882622, 'it'),\n",
              "  Text(1.092883487371409, -0.12492270822755745, 'cn'),\n",
              "  Text(1.0946390911069936, -0.10846778425161549, 'ru'),\n",
              "  Text(1.0960865535188649, -0.09270527058984593, 'ko'),\n",
              "  Text(1.0972054830031333, -0.07835896928789601, 'pt'),\n",
              "  Text(1.097965443340663, -0.06687215586282344, 'da'),\n",
              "  Text(1.0984565010300316, -0.05825217030171998, 'sv'),\n",
              "  Text(1.0987803851616647, -0.0517847968421653, 'nl'),\n",
              "  Text(1.0990363161210686, -0.04603450713357274, 'fa'),\n",
              "  Text(1.0992355702663055, -0.04100196411527794, 'he'),\n",
              "  Text(1.0993880184234357, -0.03668766750546649, 'th'),\n",
              "  Text(1.0995021239019234, -0.033091985965784415, 'ta'),\n",
              "  Text(1.099584941078101, -0.03021518416739545, 'ro'),\n",
              "  Text(1.0996602312343366, -0.027338175536150495, 'cs'),\n",
              "  Text(1.099727993855245, -0.024460979766119193, 'id'),\n",
              "  Text(1.0997882284769684, -0.02158361655264929, 'ar'),\n",
              "  Text(1.0998284639438185, -0.01942549610642471, 'el'),\n",
              "  Text(1.0998529348820232, -0.01798670707495573, 'ps'),\n",
              "  Text(1.0998755236058106, -0.01654788726224571, 'vi'),\n",
              "  Text(1.0998962300765243, -0.01510903913059323, 'hu'),\n",
              "  Text(1.0999150542587282, -0.013670165142345335, 'te'),\n",
              "  Text(1.0999319961202083, -0.012231267759896247, 'sl'),\n",
              "  Text(1.0999470556319713, -0.01079234944567632, 'nb'),\n",
              "  Text(1.099960232768245, -0.00935341266215563, 'pl'),\n",
              "  Text(1.0999715275064792, -0.007914459871831963, 'tr'),\n",
              "  Text(1.0999809398273452, -0.006475493537234394, 'no'),\n",
              "  Text(1.0999884697147349, -0.005036516120911278, 'is'),\n",
              "  Text(1.0999941171557621, -0.0035975300854338356, 'ky'),\n",
              "  Text(1.0999978821407626, -0.0021585378933851127, 'af'),\n",
              "  Text(1.0999997646632929, -0.0007195420073586872, 'xx')])"
            ]
          },
          "metadata": {
            "tags": []
          },
          "execution_count": 31
        },
        {
          "output_type": "display_data",
          "data": {
            "image/png": "[encoded data removed]",
            "text/plain": [
              "<Figure size 432x288 with 1 Axes>"
            ]
          },
          "metadata": {
            "tags": []
          }
        }
      ]
    },
    {
      "cell_type": "code",
      "metadata": {
        "id": "bu9aRpMItTFX",
        "colab_type": "code",
        "colab": {}
      },
      "source": [
        "total_por_lingua=tmdb.original_language.value_counts()\n",
        "total_geral=total_por_lingua.sum()\n",
        "total_de_ingles=total_por_lingua.loc['en']\n",
        "total_do_resto=total_geral-total_de_ingles"
      ],
      "execution_count": 0,
      "outputs": []
    },
    {
      "cell_type": "code",
      "metadata": {
        "id": "yM6ZAwH4u_pY",
        "colab_type": "code",
        "outputId": "50ea88bd-c733-4fc9-d76c-b982c1170c4b",
        "colab": {
          "base_uri": "https://localhost:8080/"
        }
      },
      "source": [
        "dados={'lingua':['ingles','outros'], \n",
        "       'total':[total_de_ingles,total_do_resto]}\n",
        "dados"
      ],
      "execution_count": 0,
      "outputs": [
        {
          "output_type": "execute_result",
          "data": {
            "text/plain": [
              "{'lingua': ['ingles', 'outros'], 'total': [4505, 298]}"
            ]
          },
          "metadata": {
            "tags": []
          },
          "execution_count": 33
        }
      ]
    },
    {
      "cell_type": "code",
      "metadata": {
        "id": "WIvzDLr7vXVx",
        "colab_type": "code",
        "outputId": "d805beec-7e25-489e-83aa-555dc6a561fe",
        "colab": {
          "base_uri": "https://localhost:8080/"
        }
      },
      "source": [
        "dados=pd.DataFrame(dados)\n",
        "\n",
        "plt.pie(dados.total,labels=dados.lingua)"
      ],
      "execution_count": 0,
      "outputs": [
        {
          "output_type": "execute_result",
          "data": {
            "text/plain": [
              "([<matplotlib.patches.Wedge at 0x7f337889b438>,\n",
              "  <matplotlib.patches.Wedge at 0x7f337889b940>],\n",
              " [Text(-1.0791697536499925, 0.2130554923183512, 'ingles'),\n",
              "  Text(1.0791697511565306, -0.2130555049482467, 'outros')])"
            ]
          },
          "metadata": {
            "tags": []
          },
          "execution_count": 34
        },
        {
          "output_type": "display_data",
          "data": {
            "image/png": "[encoded data removed]",
            "text/plain": [
              "<Figure size 432x288 with 1 Axes>"
            ]
          },
          "metadata": {
            "tags": []
          }
        }
      ]
    },
    {
      "cell_type": "code",
      "metadata": {
        "id": "SKAupxwJveTM",
        "colab_type": "code",
        "outputId": "d8416311-613d-41bb-adc4-81b80e291891",
        "colab": {
          "base_uri": "https://localhost:8080/"
        }
      },
      "source": [
        "outras_linguas=tmdb.query(\"original_language!='en' \")\n",
        "sns.catplot(x='original_language', kind='count', data=outras_linguas)"
      ],
      "execution_count": 0,
      "outputs": [
        {
          "output_type": "execute_result",
          "data": {
            "text/plain": [
              "<seaborn.axisgrid.FacetGrid at 0x7f337b99b1d0>"
            ]
          },
          "metadata": {
            "tags": []
          },
          "execution_count": 35
        },
        {
          "output_type": "display_data",
          "data": {
            "image/png": "[encoded data removed]",
            "text/plain": [
              "<Figure size 360x360 with 1 Axes>"
            ]
          },
          "metadata": {
            "tags": []
          }
        }
      ]
    },
    {
      "cell_type": "code",
      "metadata": {
        "id": "pUqFJMUo150a",
        "colab_type": "code",
        "outputId": "41dc86e4-4c0c-450d-ef88-792acb12ac82",
        "colab": {
          "base_uri": "https://localhost:8080/"
        }
      },
      "source": [
        "total_outras_linguas=tmdb.query(\"original_language!='en' \").original_language.value_counts()\n",
        "total_outras_linguas.head()"
      ],
      "execution_count": 0,
      "outputs": [
        {
          "output_type": "execute_result",
          "data": {
            "text/plain": [
              "fr    70\n",
              "es    32\n",
              "zh    27\n",
              "de    27\n",
              "hi    19\n",
              "Name: original_language, dtype: int64"
            ]
          },
          "metadata": {
            "tags": []
          },
          "execution_count": 36
        }
      ]
    },
    {
      "cell_type": "markdown",
      "metadata": {
        "id": "a9k-d-Ul0Byt",
        "colab_type": "text"
      },
      "source": [
        "Editando as figuras"
      ]
    },
    {
      "cell_type": "code",
      "metadata": {
        "id": "Y7uLsr54xiBK",
        "colab_type": "code",
        "outputId": "5c6654c7-c946-40e6-9cee-f341664a0452",
        "colab": {
          "base_uri": "https://localhost:8080/"
        }
      },
      "source": [
        "outras_linguas=tmdb.query(\"original_language!='en' \")\n",
        "sns.catplot(x='original_language', kind='count', \n",
        "            data=outras_linguas,aspect=2,order=total_outras_linguas.index)"
      ],
      "execution_count": 0,
      "outputs": [
        {
          "output_type": "execute_result",
          "data": {
            "text/plain": [
              "<seaborn.axisgrid.FacetGrid at 0x7f3378869d68>"
            ]
          },
          "metadata": {
            "tags": []
          },
          "execution_count": 37
        },
        {
          "output_type": "display_data",
          "data": {
            "image/png": "[encoded data removed]",
            "text/plain": [
              "<Figure size 720x360 with 1 Axes>"
            ]
          },
          "metadata": {
            "tags": []
          }
        }
      ]
    },
    {
      "cell_type": "code",
      "metadata": {
        "id": "BZb96yew0jdF",
        "colab_type": "code",
        "outputId": "ee1393a7-8d48-4f31-8244-08adca0cbaa9",
        "colab": {
          "base_uri": "https://localhost:8080/"
        }
      },
      "source": [
        "outras_linguas=tmdb.query(\"original_language!='en' \")\n",
        "sns.catplot(x='original_language', kind='count', \n",
        "            data=outras_linguas,aspect=2,\n",
        "            palette='ch:2.5,-.2,dark=.3',\n",
        "            order=total_outras_linguas.index)"
      ],
      "execution_count": 0,
      "outputs": [
        {
          "output_type": "execute_result",
          "data": {
            "text/plain": [
              "<seaborn.axisgrid.FacetGrid at 0x7f33787d6c18>"
            ]
          },
          "metadata": {
            "tags": []
          },
          "execution_count": 38
        },
        {
          "output_type": "display_data",
          "data": {
            "image/png": "[encoded data removed]",
            "text/plain": [
              "<Figure size 720x360 with 1 Axes>"
            ]
          },
          "metadata": {
            "tags": []
          }
        }
      ]
    },
    {
      "cell_type": "markdown",
      "metadata": {
        "id": "eFrLy43m5L8I",
        "colab_type": "text"
      },
      "source": [
        "## 1.5. Voltando ao moveleans (Data Visualisation)"
      ]
    },
    {
      "cell_type": "code",
      "metadata": {
        "id": "moLbTRwd5Ttw",
        "colab_type": "code",
        "outputId": "f15af3f8-6a71-4410-90e6-dddb4a38cc05",
        "colab": {
          "base_uri": "https://localhost:8080/"
        }
      },
      "source": [
        "notas_toy_story=notas.query('FilmeID==1')\n",
        "notas_jumanji=notas.query('FilmeID==2')\n",
        "print(len(notas_toy_story) , len(notas_jumanji)     )"
      ],
      "execution_count": 0,
      "outputs": [
        {
          "output_type": "stream",
          "text": [
            "215 110\n"
          ],
          "name": "stdout"
        }
      ]
    },
    {
      "cell_type": "code",
      "metadata": {
        "id": "lhm6SSuM5lQV",
        "colab_type": "code",
        "outputId": "bc9cb284-3439-473e-9934-87b7c1f9234b",
        "colab": {
          "base_uri": "https://localhost:8080/"
        }
      },
      "source": [
        "print(\"Nota média do Toy Story %.2f\" % notas_toy_story.Nota.mean())\n",
        "print(\"Nota média do Jumanji   %.2f\" % notas_jumanji.Nota.mean())"
      ],
      "execution_count": 0,
      "outputs": [
        {
          "output_type": "stream",
          "text": [
            "Nota média do Toy Story 3.92\n",
            "Nota média do Jumanji   3.43\n"
          ],
          "name": "stdout"
        }
      ]
    },
    {
      "cell_type": "code",
      "metadata": {
        "id": "J9TaNiOM6SWh",
        "colab_type": "code",
        "outputId": "6a3a7ecb-3446-458b-9c80-40ada615f8d0",
        "colab": {
          "base_uri": "https://localhost:8080/"
        }
      },
      "source": [
        "import numpy as np\n",
        "\n",
        "a=np.array([2.5]*10)\n",
        "b=np.array([3.5]*10)\n",
        "filme1=np.append(a,b)\n",
        "\n",
        "a=np.array([1]*10)\n",
        "b=np.array([5]*10)\n",
        "filme2=np.append(a,b)\n",
        "\n",
        "sns.distplot(filme1)\n",
        "sns.distplot(filme2)\n"
      ],
      "execution_count": 0,
      "outputs": [
        {
          "output_type": "execute_result",
          "data": {
            "text/plain": [
              "<matplotlib.axes._subplots.AxesSubplot at 0x7f3378549f98>"
            ]
          },
          "metadata": {
            "tags": []
          },
          "execution_count": 41
        },
        {
          "output_type": "display_data",
          "data": {
            "image/png": "[encoded data removed]",
            "text/plain": [
              "<Figure size 432x288 with 1 Axes>"
            ]
          },
          "metadata": {
            "tags": []
          }
        }
      ]
    },
    {
      "cell_type": "code",
      "metadata": {
        "id": "c7ADugI-73D0",
        "colab_type": "code",
        "outputId": "d4f741aa-7a92-44f4-a4c7-72d44d84463e",
        "colab": {
          "base_uri": "https://localhost:8080/"
        }
      },
      "source": [
        "plt.hist(filme1)\n",
        "plt.hist(filme2)"
      ],
      "execution_count": 0,
      "outputs": [
        {
          "output_type": "execute_result",
          "data": {
            "text/plain": [
              "(array([10.,  0.,  0.,  0.,  0.,  0.,  0.,  0.,  0., 10.]),\n",
              " array([1. , 1.4, 1.8, 2.2, 2.6, 3. , 3.4, 3.8, 4.2, 4.6, 5. ]),\n",
              " <a list of 10 Patch objects>)"
            ]
          },
          "metadata": {
            "tags": []
          },
          "execution_count": 42
        },
        {
          "output_type": "display_data",
          "data": {
            "image/png": "[encoded data removed]",
            "text/plain": [
              "<Figure size 432x288 with 1 Axes>"
            ]
          },
          "metadata": {
            "tags": []
          }
        }
      ]
    },
    {
      "cell_type": "code",
      "metadata": {
        "id": "_JPjRStS9f15",
        "colab_type": "code",
        "outputId": "df060dfa-7046-49c2-950a-0ddc81296c3f",
        "colab": {
          "base_uri": "https://localhost:8080/"
        }
      },
      "source": [
        "plt.boxplot([filme1,filme2])"
      ],
      "execution_count": 0,
      "outputs": [
        {
          "output_type": "execute_result",
          "data": {
            "text/plain": [
              "{'boxes': [<matplotlib.lines.Line2D at 0x7f337841d0f0>,\n",
              "  <matplotlib.lines.Line2D at 0x7f3378427898>],\n",
              " 'caps': [<matplotlib.lines.Line2D at 0x7f337841db70>,\n",
              "  <matplotlib.lines.Line2D at 0x7f337841deb8>,\n",
              "  <matplotlib.lines.Line2D at 0x7f33784342e8>,\n",
              "  <matplotlib.lines.Line2D at 0x7f3378434630>],\n",
              " 'fliers': [<matplotlib.lines.Line2D at 0x7f3378427588>,\n",
              "  <matplotlib.lines.Line2D at 0x7f3378434cc0>],\n",
              " 'means': [],\n",
              " 'medians': [<matplotlib.lines.Line2D at 0x7f3378427240>,\n",
              "  <matplotlib.lines.Line2D at 0x7f3378434978>],\n",
              " 'whiskers': [<matplotlib.lines.Line2D at 0x7f337841d470>,\n",
              "  <matplotlib.lines.Line2D at 0x7f337841d828>,\n",
              "  <matplotlib.lines.Line2D at 0x7f3378427c18>,\n",
              "  <matplotlib.lines.Line2D at 0x7f3378427f60>]}"
            ]
          },
          "metadata": {
            "tags": []
          },
          "execution_count": 43
        },
        {
          "output_type": "display_data",
          "data": {
            "image/png": "[encoded data removed]",
            "text/plain": [
              "<Figure size 432x288 with 1 Axes>"
            ]
          },
          "metadata": {
            "tags": []
          }
        }
      ]
    },
    {
      "cell_type": "code",
      "metadata": {
        "id": "eAit0rB79mcA",
        "colab_type": "code",
        "outputId": "d5047221-12b6-42d5-91d5-79318c1e53e7",
        "colab": {
          "base_uri": "https://localhost:8080/"
        }
      },
      "source": [
        "plt.boxplot([notas_toy_story.Nota,notas_jumanji.Nota])"
      ],
      "execution_count": 0,
      "outputs": [
        {
          "output_type": "execute_result",
          "data": {
            "text/plain": [
              "{'boxes': [<matplotlib.lines.Line2D at 0x7f3378395978>,\n",
              "  <matplotlib.lines.Line2D at 0x7f33783b0080>],\n",
              " 'caps': [<matplotlib.lines.Line2D at 0x7f33783a3358>,\n",
              "  <matplotlib.lines.Line2D at 0x7f33783a36a0>,\n",
              "  <matplotlib.lines.Line2D at 0x7f33783b0a90>,\n",
              "  <matplotlib.lines.Line2D at 0x7f33783b0dd8>],\n",
              " 'fliers': [<matplotlib.lines.Line2D at 0x7f33783a3d30>,\n",
              "  <matplotlib.lines.Line2D at 0x7f33783bd4a8>],\n",
              " 'means': [],\n",
              " 'medians': [<matplotlib.lines.Line2D at 0x7f33783a39e8>,\n",
              "  <matplotlib.lines.Line2D at 0x7f33783bd160>],\n",
              " 'whiskers': [<matplotlib.lines.Line2D at 0x7f3378395c88>,\n",
              "  <matplotlib.lines.Line2D at 0x7f3378395fd0>,\n",
              "  <matplotlib.lines.Line2D at 0x7f33783b0400>,\n",
              "  <matplotlib.lines.Line2D at 0x7f33783b0748>]}"
            ]
          },
          "metadata": {
            "tags": []
          },
          "execution_count": 44
        },
        {
          "output_type": "display_data",
          "data": {
            "image/png": "[encoded data removed]",
            "text/plain": [
              "<Figure size 432x288 with 1 Axes>"
            ]
          },
          "metadata": {
            "tags": []
          }
        }
      ]
    },
    {
      "cell_type": "code",
      "metadata": {
        "id": "HSqCe_nz-H-u",
        "colab_type": "code",
        "outputId": "06220b34-7b0a-4307-ffd8-3afca59bec70",
        "colab": {
          "base_uri": "https://localhost:8080/"
        }
      },
      "source": [
        "sns.boxplot(x='FilmeID',y='Nota',data=notas.query ('FilmeID in [1,2,3,4,5]')    )"
      ],
      "execution_count": 0,
      "outputs": [
        {
          "output_type": "execute_result",
          "data": {
            "text/plain": [
              "<matplotlib.axes._subplots.AxesSubplot at 0x7f337844cf60>"
            ]
          },
          "metadata": {
            "tags": []
          },
          "execution_count": 45
        },
        {
          "output_type": "display_data",
          "data": {
            "image/png": "[encoded data removed]",
            "text/plain": [
              "<Figure size 432x288 with 1 Axes>"
            ]
          },
          "metadata": {
            "tags": []
          }
        }
      ]
    },
    {
      "cell_type": "code",
      "metadata": {
        "id": "Ob6xZqDo-zwU",
        "colab_type": "code",
        "colab": {}
      },
      "source": [
        ""
      ],
      "execution_count": 0,
      "outputs": []
    },
    {
      "cell_type": "markdown",
      "metadata": {
        "id": "McW1DLghanm4",
        "colab_type": "text"
      },
      "source": [
        "# <font color=green> AULA 2. PREDITORES (SVM E SVC)"
      ]
    },
    {
      "cell_type": "markdown",
      "metadata": {
        "id": "QVQpzy1ibLWP",
        "colab_type": "text"
      },
      "source": [
        "## Importar Bibliotecas"
      ]
    },
    {
      "cell_type": "code",
      "metadata": {
        "id": "_Tk74qghbTd6",
        "colab_type": "code",
        "colab": {}
      },
      "source": [
        "import pandas as pd\n",
        "from sklearn.model_selection import train_test_split\n",
        "from sklearn.svm import LinearSVC\n",
        "from sklearn.metrics import accuracy_score"
      ],
      "execution_count": 0,
      "outputs": []
    },
    {
      "cell_type": "markdown",
      "metadata": {
        "id": "6TiB7V2cb1W3",
        "colab_type": "text"
      },
      "source": [
        "## 2.1. Importar Base de Dados"
      ]
    },
    {
      "cell_type": "code",
      "metadata": {
        "id": "k9SnHl_nb7uC",
        "colab_type": "code",
        "outputId": "86d2098d-eec1-441a-daf4-6ea35e719d85",
        "colab": {
          "base_uri": "https://localhost:8080/"
        }
      },
      "source": [
        "uri = \"https://gist.githubusercontent.com/guilhermesilveira/2d2efa37d66b6c84a722ea627a897ced/raw/10968b997d885cbded1c92938c7a9912ba41c615/tracking.csv\"\n",
        "dados = pd.read_csv(uri)\n",
        "dados.head(3)"
      ],
      "execution_count": 0,
      "outputs": [
        {
          "output_type": "execute_result",
          "data": {
            "text/html": [
              "<div>\n",
              "<style scoped>\n",
              "    .dataframe tbody tr th:only-of-type {\n",
              "        vertical-align: middle;\n",
              "    }\n",
              "\n",
              "    .dataframe tbody tr th {\n",
              "        vertical-align: top;\n",
              "    }\n",
              "\n",
              "    .dataframe thead th {\n",
              "        text-align: right;\n",
              "    }\n",
              "</style>\n",
              "<table border=\"1\" class=\"dataframe\">\n",
              "  <thead>\n",
              "    <tr style=\"text-align: right;\">\n",
              "      <th></th>\n",
              "      <th>home</th>\n",
              "      <th>how_it_works</th>\n",
              "      <th>contact</th>\n",
              "      <th>bought</th>\n",
              "    </tr>\n",
              "  </thead>\n",
              "  <tbody>\n",
              "    <tr>\n",
              "      <th>0</th>\n",
              "      <td>1</td>\n",
              "      <td>1</td>\n",
              "      <td>0</td>\n",
              "      <td>0</td>\n",
              "    </tr>\n",
              "    <tr>\n",
              "      <th>1</th>\n",
              "      <td>1</td>\n",
              "      <td>1</td>\n",
              "      <td>0</td>\n",
              "      <td>0</td>\n",
              "    </tr>\n",
              "    <tr>\n",
              "      <th>2</th>\n",
              "      <td>1</td>\n",
              "      <td>1</td>\n",
              "      <td>0</td>\n",
              "      <td>0</td>\n",
              "    </tr>\n",
              "  </tbody>\n",
              "</table>\n",
              "</div>"
            ],
            "text/plain": [
              "   home  how_it_works  contact  bought\n",
              "0     1             1        0       0\n",
              "1     1             1        0       0\n",
              "2     1             1        0       0"
            ]
          },
          "metadata": {
            "tags": []
          },
          "execution_count": 47
        }
      ]
    },
    {
      "cell_type": "code",
      "metadata": {
        "id": "ygO0A-6jcDSq",
        "colab_type": "code",
        "colab": {}
      },
      "source": [
        "# Traduizir colunas\n",
        "mapa = {\n",
        "    \"home\" : \"principal\",\n",
        "    \"how_it_works\" : \"como_funciona\",\n",
        "    \"contact\" : \"contato\",\n",
        "    \"bought\" : \"comprou\"\n",
        "}\n",
        "dados = dados.rename(columns = mapa)"
      ],
      "execution_count": 0,
      "outputs": []
    },
    {
      "cell_type": "markdown",
      "metadata": {
        "id": "KAJ8rbDTcXl_",
        "colab_type": "text"
      },
      "source": [
        "## 2.2. Treinando e Testando os Preditores"
      ]
    },
    {
      "cell_type": "code",
      "metadata": {
        "id": "ixq7TKHecg8L",
        "colab_type": "code",
        "outputId": "186ac028-4c3e-4e86-c7f0-5a105605189c",
        "colab": {
          "base_uri": "https://localhost:8080/"
        }
      },
      "source": [
        "# Definir varivés de entrada do modelo - (x)\n",
        "\n",
        "x = dados[[\"principal\",\"como_funciona\",\"contato\"]]\n",
        "x.head(3)"
      ],
      "execution_count": 0,
      "outputs": [
        {
          "output_type": "execute_result",
          "data": {
            "text/html": [
              "<div>\n",
              "<style scoped>\n",
              "    .dataframe tbody tr th:only-of-type {\n",
              "        vertical-align: middle;\n",
              "    }\n",
              "\n",
              "    .dataframe tbody tr th {\n",
              "        vertical-align: top;\n",
              "    }\n",
              "\n",
              "    .dataframe thead th {\n",
              "        text-align: right;\n",
              "    }\n",
              "</style>\n",
              "<table border=\"1\" class=\"dataframe\">\n",
              "  <thead>\n",
              "    <tr style=\"text-align: right;\">\n",
              "      <th></th>\n",
              "      <th>principal</th>\n",
              "      <th>como_funciona</th>\n",
              "      <th>contato</th>\n",
              "    </tr>\n",
              "  </thead>\n",
              "  <tbody>\n",
              "    <tr>\n",
              "      <th>0</th>\n",
              "      <td>1</td>\n",
              "      <td>1</td>\n",
              "      <td>0</td>\n",
              "    </tr>\n",
              "    <tr>\n",
              "      <th>1</th>\n",
              "      <td>1</td>\n",
              "      <td>1</td>\n",
              "      <td>0</td>\n",
              "    </tr>\n",
              "    <tr>\n",
              "      <th>2</th>\n",
              "      <td>1</td>\n",
              "      <td>1</td>\n",
              "      <td>0</td>\n",
              "    </tr>\n",
              "  </tbody>\n",
              "</table>\n",
              "</div>"
            ],
            "text/plain": [
              "   principal  como_funciona  contato\n",
              "0          1              1        0\n",
              "1          1              1        0\n",
              "2          1              1        0"
            ]
          },
          "metadata": {
            "tags": []
          },
          "execution_count": 49
        }
      ]
    },
    {
      "cell_type": "code",
      "metadata": {
        "id": "gAlgtTJmczmC",
        "colab_type": "code",
        "outputId": "f6be85ec-0bc2-4876-b80f-8d26287604d1",
        "colab": {
          "base_uri": "https://localhost:8080/"
        }
      },
      "source": [
        "# Definir varivés de saida do modelo - (y)\n",
        "y = dados[\"comprou\"]\n",
        "y.tail(3)"
      ],
      "execution_count": 0,
      "outputs": [
        {
          "output_type": "execute_result",
          "data": {
            "text/plain": [
              "96    0\n",
              "97    0\n",
              "98    0\n",
              "Name: comprou, dtype: int64"
            ]
          },
          "metadata": {
            "tags": []
          },
          "execution_count": 50
        }
      ]
    },
    {
      "cell_type": "markdown",
      "metadata": {
        "id": "Z4vwwMT9dJcj",
        "colab_type": "text"
      },
      "source": [
        "### 2.2.1. Definir conjunto de treinamento e teste - (Manualmente)"
      ]
    },
    {
      "cell_type": "code",
      "metadata": {
        "id": "ReIgpLCldIQ7",
        "colab_type": "code",
        "outputId": "26599f88-b301-4870-c9a4-25ef5bfee296",
        "colab": {
          "base_uri": "https://localhost:8080/"
        }
      },
      "source": [
        "treino_x = x[:75]\n",
        "treino_y = y[:75]\n",
        "teste_x = x[75:]\n",
        "teste_y = y[75:]\n",
        "\n",
        "print(\"Treinaremos com %d elementos e testaremos com %d elementos\" % (len(treino_x), len(teste_x)))"
      ],
      "execution_count": 0,
      "outputs": [
        {
          "output_type": "stream",
          "text": [
            "Treinaremos com 75 elementos e testaremos com 24 elementos\n"
          ],
          "name": "stdout"
        }
      ]
    },
    {
      "cell_type": "markdown",
      "metadata": {
        "id": "7hT6r4_idp9U",
        "colab_type": "text"
      },
      "source": [
        "### 2.2.2. Construir modelo e testar acurácia - (Auomáticamente)"
      ]
    },
    {
      "cell_type": "code",
      "metadata": {
        "id": "yQp3aEQDc-rR",
        "colab_type": "code",
        "outputId": "b3395479-f2f1-4fa7-c321-1f0fe6cde143",
        "colab": {
          "base_uri": "https://localhost:8080/"
        }
      },
      "source": [
        "modelo = LinearSVC()\n",
        "modelo.fit(treino_x, treino_y)\n",
        "previsoes = modelo.predict(teste_x)\n",
        "\n",
        "acuracia = accuracy_score(teste_y, previsoes) * 100\n",
        "print(\"A acurácia foi %.2f%%\" % acuracia)"
      ],
      "execution_count": 0,
      "outputs": [
        {
          "output_type": "stream",
          "text": [
            "A acurácia foi 95.83%\n"
          ],
          "name": "stdout"
        }
      ]
    },
    {
      "cell_type": "markdown",
      "metadata": {
        "id": "2FXDB7tneV_u",
        "colab_type": "text"
      },
      "source": [
        "## 2.3. Treino e Teste Automatizados"
      ]
    },
    {
      "cell_type": "code",
      "metadata": {
        "id": "Ww11VB-_eVSx",
        "colab_type": "code",
        "outputId": "88a5f194-31a0-4acb-a128-b29a9bf6aab1",
        "colab": {
          "base_uri": "https://localhost:8080/"
        }
      },
      "source": [
        "SEED = 20\n",
        "\n",
        "treino_x, teste_x, treino_y, teste_y = train_test_split(x, y, random_state = SEED, test_size = 0.25)\n",
        "print(\"Treinaremos com %d elementos e testaremos com %d elementos\" % (len(treino_x), len(teste_x)))\n",
        "\n",
        "modelo = LinearSVC()\n",
        "modelo.fit(treino_x, treino_y)\n",
        "previsoes = modelo.predict(teste_x)\n",
        "\n",
        "acuracia = accuracy_score(teste_y, previsoes) * 100\n",
        "print(\"A acurácia foi %.2f%%\" % acuracia)\n",
        "\n",
        "#Obs: sem o seed o estado randômico geraria modelos diferentes e acurácias diferentes"
      ],
      "execution_count": 0,
      "outputs": [
        {
          "output_type": "stream",
          "text": [
            "Treinaremos com 74 elementos e testaremos com 25 elementos\n",
            "A acurácia foi 96.00%\n"
          ],
          "name": "stdout"
        }
      ]
    },
    {
      "cell_type": "code",
      "metadata": {
        "id": "PSsjNI0vdl7P",
        "colab_type": "code",
        "outputId": "7d8775f9-4baa-4aef-9a1e-efef1766f735",
        "colab": {
          "base_uri": "https://localhost:8080/"
        }
      },
      "source": [
        "#Contar as repostas do treino\n",
        "treino_y.value_counts()"
      ],
      "execution_count": 0,
      "outputs": [
        {
          "output_type": "execute_result",
          "data": {
            "text/plain": [
              "0    47\n",
              "1    27\n",
              "Name: comprou, dtype: int64"
            ]
          },
          "metadata": {
            "tags": []
          },
          "execution_count": 54
        }
      ]
    },
    {
      "cell_type": "markdown",
      "metadata": {
        "id": "uN46OtK1fYPz",
        "colab_type": "text"
      },
      "source": [
        "## 2.4. Treino Estratificado"
      ]
    },
    {
      "cell_type": "code",
      "metadata": {
        "id": "ys13NzohfTB4",
        "colab_type": "code",
        "outputId": "d1905b46-5db8-49e1-9a92-dece5672ce3b",
        "colab": {
          "base_uri": "https://localhost:8080/"
        }
      },
      "source": [
        "SEED = 20\n",
        "\n",
        "treino_x, teste_x, treino_y, teste_y = train_test_split(x, y,random_state = SEED, test_size = 0.25,stratify = y)\n",
        "print(\"Treinaremos com %d elementos e testaremos com %d elementos\" % (len(treino_x), len(teste_x)))\n",
        "\n",
        "modelo = LinearSVC()\n",
        "modelo.fit(treino_x, treino_y)\n",
        "previsoes = modelo.predict(teste_x)\n",
        "\n",
        "acuracia = accuracy_score(teste_y, previsoes) * 100\n",
        "print(\"A acurácia foi %.2f%%\" % acuracia)"
      ],
      "execution_count": 0,
      "outputs": [
        {
          "output_type": "stream",
          "text": [
            "Treinaremos com 74 elementos e testaremos com 25 elementos\n",
            "A acurácia foi 96.00%\n"
          ],
          "name": "stdout"
        }
      ]
    },
    {
      "cell_type": "code",
      "metadata": {
        "id": "SVf2U0ZNfqXC",
        "colab_type": "code",
        "outputId": "7114fc4e-3325-4fa1-b24e-b2e82576e73f",
        "colab": {
          "base_uri": "https://localhost:8080/"
        }
      },
      "source": [
        "#Contar as repostas do treino\n",
        "treino_y.value_counts()"
      ],
      "execution_count": 0,
      "outputs": [
        {
          "output_type": "execute_result",
          "data": {
            "text/plain": [
              "0    49\n",
              "1    25\n",
              "Name: comprou, dtype: int64"
            ]
          },
          "metadata": {
            "tags": []
          },
          "execution_count": 56
        }
      ]
    },
    {
      "cell_type": "code",
      "metadata": {
        "id": "-pp13s-Cf6kK",
        "colab_type": "code",
        "outputId": "905ecb4c-f1b7-402c-ca9d-ac5bd0a7b2d5",
        "colab": {
          "base_uri": "https://localhost:8080/"
        }
      },
      "source": [
        "#Contar as repostas do teste\n",
        "teste_y.value_counts()"
      ],
      "execution_count": 0,
      "outputs": [
        {
          "output_type": "execute_result",
          "data": {
            "text/plain": [
              "0    17\n",
              "1     8\n",
              "Name: comprou, dtype: int64"
            ]
          },
          "metadata": {
            "tags": []
          },
          "execution_count": 57
        }
      ]
    },
    {
      "cell_type": "code",
      "metadata": {
        "id": "yCP60R0uf_Ya",
        "colab_type": "code",
        "colab": {}
      },
      "source": [
        ""
      ],
      "execution_count": 0,
      "outputs": []
    },
    {
      "cell_type": "markdown",
      "metadata": {
        "id": "Cn0WTXhJgwl_",
        "colab_type": "text"
      },
      "source": [
        "# <font color=green> AULA 3 - DATA VISUALIZATION E PREDITORES NÃO-LINARES"
      ]
    },
    {
      "cell_type": "markdown",
      "metadata": {
        "id": "twEOaGT5hStA",
        "colab_type": "text"
      },
      "source": [
        "## Instalar SeaBorn"
      ]
    },
    {
      "cell_type": "code",
      "metadata": {
        "id": "pXdrnk-2hDCH",
        "colab_type": "code",
        "outputId": "4d187b90-3b80-4d09-f2ca-5d6b4428fa02",
        "colab": {
          "base_uri": "https://localhost:8080/"
        }
      },
      "source": [
        "!pip install SeaBorn"
      ],
      "execution_count": 0,
      "outputs": [
        {
          "output_type": "stream",
          "text": [
            "Requirement already satisfied: SeaBorn in /usr/local/lib/python3.6/dist-packages (0.9.0)\n",
            "Requirement already satisfied: matplotlib>=1.4.3 in /usr/local/lib/python3.6/dist-packages (from SeaBorn) (3.1.2)\n",
            "Requirement already satisfied: pandas>=0.15.2 in /usr/local/lib/python3.6/dist-packages (from SeaBorn) (0.25.3)\n",
            "Requirement already satisfied: numpy>=1.9.3 in /usr/local/lib/python3.6/dist-packages (from SeaBorn) (1.17.5)\n",
            "Requirement already satisfied: scipy>=0.14.0 in /usr/local/lib/python3.6/dist-packages (from SeaBorn) (1.4.1)\n",
            "Requirement already satisfied: cycler>=0.10 in /usr/local/lib/python3.6/dist-packages (from matplotlib>=1.4.3->SeaBorn) (0.10.0)\n",
            "Requirement already satisfied: pyparsing!=2.0.4,!=2.1.2,!=2.1.6,>=2.0.1 in /usr/local/lib/python3.6/dist-packages (from matplotlib>=1.4.3->SeaBorn) (2.4.6)\n",
            "Requirement already satisfied: kiwisolver>=1.0.1 in /usr/local/lib/python3.6/dist-packages (from matplotlib>=1.4.3->SeaBorn) (1.1.0)\n",
            "Requirement already satisfied: python-dateutil>=2.1 in /usr/local/lib/python3.6/dist-packages (from matplotlib>=1.4.3->SeaBorn) (2.6.1)\n",
            "Requirement already satisfied: pytz>=2017.2 in /usr/local/lib/python3.6/dist-packages (from pandas>=0.15.2->SeaBorn) (2018.9)\n",
            "Requirement already satisfied: six in /usr/local/lib/python3.6/dist-packages (from cycler>=0.10->matplotlib>=1.4.3->SeaBorn) (1.12.0)\n",
            "Requirement already satisfied: setuptools in /usr/local/lib/python3.6/dist-packages (from kiwisolver>=1.0.1->matplotlib>=1.4.3->SeaBorn) (42.0.2)\n"
          ],
          "name": "stdout"
        }
      ]
    },
    {
      "cell_type": "markdown",
      "metadata": {
        "id": "MnuARIsEhkUC",
        "colab_type": "text"
      },
      "source": [
        "## Importar Bibliotecas"
      ]
    },
    {
      "cell_type": "code",
      "metadata": {
        "id": "-q09x5DXhdFL",
        "colab_type": "code",
        "colab": {}
      },
      "source": [
        "#Bibliotecas principais\n",
        "import pandas as pd\n",
        "import seaborn as sns\n",
        "import numpy as np\n",
        "import matplotlib.pyplot as plt\n",
        "\n",
        "#sDo Scikit-Learn\n",
        "from sklearn.svm import LinearSVC   #Preditor Linear\n",
        "from sklearn.svm import SVC         #Preditor Não-Linear\n",
        "from sklearn.model_selection import train_test_split\n",
        "from sklearn.metrics import accuracy_score\n",
        "from sklearn.preprocessing import StandardScaler"
      ],
      "execution_count": 0,
      "outputs": []
    },
    {
      "cell_type": "markdown",
      "metadata": {
        "id": "9kFVywOsiwqa",
        "colab_type": "text"
      },
      "source": [
        "## 3.1 Importar Base de Dados"
      ]
    },
    {
      "cell_type": "code",
      "metadata": {
        "id": "48Ge0zmQirri",
        "colab_type": "code",
        "outputId": "33574f49-3d37-4415-9c02-aaf6dc04a7c4",
        "colab": {
          "base_uri": "https://localhost:8080/"
        }
      },
      "source": [
        "uri='https://gist.githubusercontent.com/guilhermesilveira/1b7d5475863c15f484ac495bd70975cf/raw/16aff7a0aee67e7c100a2a48b676a2d2d142f646/projects.csv'\n",
        "dados=pd.read_csv(uri)\n",
        "\n",
        "dados.columns=['nao_finalizados','horas_esperadas','preco']\n",
        "dados.head(3)"
      ],
      "execution_count": 0,
      "outputs": [
        {
          "output_type": "execute_result",
          "data": {
            "text/html": [
              "<div>\n",
              "<style scoped>\n",
              "    .dataframe tbody tr th:only-of-type {\n",
              "        vertical-align: middle;\n",
              "    }\n",
              "\n",
              "    .dataframe tbody tr th {\n",
              "        vertical-align: top;\n",
              "    }\n",
              "\n",
              "    .dataframe thead th {\n",
              "        text-align: right;\n",
              "    }\n",
              "</style>\n",
              "<table border=\"1\" class=\"dataframe\">\n",
              "  <thead>\n",
              "    <tr style=\"text-align: right;\">\n",
              "      <th></th>\n",
              "      <th>nao_finalizados</th>\n",
              "      <th>horas_esperadas</th>\n",
              "      <th>preco</th>\n",
              "    </tr>\n",
              "  </thead>\n",
              "  <tbody>\n",
              "    <tr>\n",
              "      <th>0</th>\n",
              "      <td>1</td>\n",
              "      <td>26</td>\n",
              "      <td>192</td>\n",
              "    </tr>\n",
              "    <tr>\n",
              "      <th>1</th>\n",
              "      <td>1</td>\n",
              "      <td>88</td>\n",
              "      <td>9015</td>\n",
              "    </tr>\n",
              "    <tr>\n",
              "      <th>2</th>\n",
              "      <td>1</td>\n",
              "      <td>89</td>\n",
              "      <td>2577</td>\n",
              "    </tr>\n",
              "  </tbody>\n",
              "</table>\n",
              "</div>"
            ],
            "text/plain": [
              "   nao_finalizados  horas_esperadas  preco\n",
              "0                1               26    192\n",
              "1                1               88   9015\n",
              "2                1               89   2577"
            ]
          },
          "metadata": {
            "tags": []
          },
          "execution_count": 60
        }
      ]
    },
    {
      "cell_type": "code",
      "metadata": {
        "id": "-5ZMuMhDjGn1",
        "colab_type": "code",
        "outputId": "22f43d9a-2934-463e-832c-dde5b3aef517",
        "colab": {
          "base_uri": "https://localhost:8080/"
        }
      },
      "source": [
        "#Trocar sim/não por 1/0\n",
        "troca={0:1,1:0}\n",
        "dados['finalizados']=dados.nao_finalizados.map(troca)\n",
        "dados.tail(3)"
      ],
      "execution_count": 0,
      "outputs": [
        {
          "output_type": "execute_result",
          "data": {
            "text/html": [
              "<div>\n",
              "<style scoped>\n",
              "    .dataframe tbody tr th:only-of-type {\n",
              "        vertical-align: middle;\n",
              "    }\n",
              "\n",
              "    .dataframe tbody tr th {\n",
              "        vertical-align: top;\n",
              "    }\n",
              "\n",
              "    .dataframe thead th {\n",
              "        text-align: right;\n",
              "    }\n",
              "</style>\n",
              "<table border=\"1\" class=\"dataframe\">\n",
              "  <thead>\n",
              "    <tr style=\"text-align: right;\">\n",
              "      <th></th>\n",
              "      <th>nao_finalizados</th>\n",
              "      <th>horas_esperadas</th>\n",
              "      <th>preco</th>\n",
              "      <th>finalizados</th>\n",
              "    </tr>\n",
              "  </thead>\n",
              "  <tbody>\n",
              "    <tr>\n",
              "      <th>2154</th>\n",
              "      <td>0</td>\n",
              "      <td>40</td>\n",
              "      <td>473</td>\n",
              "      <td>1</td>\n",
              "    </tr>\n",
              "    <tr>\n",
              "      <th>2155</th>\n",
              "      <td>0</td>\n",
              "      <td>75</td>\n",
              "      <td>5324</td>\n",
              "      <td>1</td>\n",
              "    </tr>\n",
              "    <tr>\n",
              "      <th>2156</th>\n",
              "      <td>1</td>\n",
              "      <td>37</td>\n",
              "      <td>377</td>\n",
              "      <td>0</td>\n",
              "    </tr>\n",
              "  </tbody>\n",
              "</table>\n",
              "</div>"
            ],
            "text/plain": [
              "      nao_finalizados  horas_esperadas  preco  finalizados\n",
              "2154                0               40    473            1\n",
              "2155                0               75   5324            1\n",
              "2156                1               37    377            0"
            ]
          },
          "metadata": {
            "tags": []
          },
          "execution_count": 61
        }
      ]
    },
    {
      "cell_type": "code",
      "metadata": {
        "id": "MR8LIbRMjjDa",
        "colab_type": "code",
        "colab": {}
      },
      "source": [
        ""
      ],
      "execution_count": 0,
      "outputs": []
    },
    {
      "cell_type": "markdown",
      "metadata": {
        "id": "QcNS8camjjrJ",
        "colab_type": "text"
      },
      "source": [
        "## 3.2. SeaBorn"
      ]
    },
    {
      "cell_type": "markdown",
      "metadata": {
        "id": "ly9H24Ntj3d5",
        "colab_type": "text"
      },
      "source": [
        "### 3.2.1 Gráfico de dispersão (*scatterplot*)"
      ]
    },
    {
      "cell_type": "code",
      "metadata": {
        "id": "u4YWSNbLjVCd",
        "colab_type": "code",
        "outputId": "ce2e1c6f-dccb-429a-f7e5-185adbb72ad2",
        "colab": {
          "base_uri": "https://localhost:8080/"
        }
      },
      "source": [
        "#Grafico default\n",
        "G1=sns.scatterplot(x='horas_esperadas',y='preco',data=dados)\n",
        "\n",
        "#Obs: se o gráfico não for atribuido a uma varivél ele apenas idica o esapço de memoria que ele foi alocado"
      ],
      "execution_count": 0,
      "outputs": [
        {
          "output_type": "display_data",
          "data": {
            "image/png": "[encoded data removed]",
            "text/plain": [
              "<Figure size 432x288 with 1 Axes>"
            ]
          },
          "metadata": {
            "tags": []
          }
        }
      ]
    },
    {
      "cell_type": "code",
      "metadata": {
        "id": "H3ADxJlplMJs",
        "colab_type": "code",
        "outputId": "502fbe6e-ca62-4f54-b7d2-e88b80f55f81",
        "colab": {
          "base_uri": "https://localhost:8080/"
        }
      },
      "source": [
        "#Nomear eixos do gráfico\n",
        "G1.set(xlabel='Horas Esperadas', ylabel='Preço')\n",
        "G1.get_figure()"
      ],
      "execution_count": 0,
      "outputs": [
        {
          "output_type": "execute_result",
          "data": {
            "image/png": "[encoded data removed]",
            "text/plain": [
              "<Figure size 432x288 with 1 Axes>"
            ]
          },
          "metadata": {
            "tags": []
          },
          "execution_count": 63
        }
      ]
    },
    {
      "cell_type": "code",
      "metadata": {
        "id": "_C6k_JvAjgFF",
        "colab_type": "code",
        "colab": {}
      },
      "source": [
        "#Adicionado subtitulos (Opcional)\n",
        "# G1.figure.suptitle('Preço x Horas Esperadas')\n",
        "# G1.get_figure()"
      ],
      "execution_count": 0,
      "outputs": []
    },
    {
      "cell_type": "code",
      "metadata": {
        "id": "zpuDjO7wlsKD",
        "colab_type": "code",
        "outputId": "6050a99d-2f33-462d-aaf1-0911dd8bb2d1",
        "colab": {
          "base_uri": "https://localhost:8080/"
        }
      },
      "source": [
        "#Usar o HUE pra separar as cores do gráfico\n",
        "G2=sns.scatterplot(x='horas_esperadas',y='preco',hue='finalizados',data=dados)\n",
        "G2.set(xlabel='Horas Esperadas', ylabel='Preço')"
      ],
      "execution_count": 0,
      "outputs": [
        {
          "output_type": "execute_result",
          "data": {
            "text/plain": [
              "[Text(0, 0.5, 'Preço'), Text(0.5, 0, 'Horas Esperadas')]"
            ]
          },
          "metadata": {
            "tags": []
          },
          "execution_count": 65
        },
        {
          "output_type": "display_data",
          "data": {
            "image/png": "[encoded data removed]",
            "text/plain": [
              "<Figure size 432x288 with 1 Axes>"
            ]
          },
          "metadata": {
            "tags": []
          }
        }
      ]
    },
    {
      "cell_type": "code",
      "metadata": {
        "id": "cH5_FlulrMDd",
        "colab_type": "code",
        "outputId": "fe1ff173-8508-454d-86b8-f76c92b6d979",
        "colab": {
          "base_uri": "https://localhost:8080/"
        }
      },
      "source": [
        "#Separando as repostas com col\n",
        "G3=sns.relplot(x='horas_esperadas',y='preco',hue='finalizados',col='finalizados',data=dados)\n",
        "G3.set(xlabel='Horas Esperadas', ylabel='Preço')"
      ],
      "execution_count": 0,
      "outputs": [
        {
          "output_type": "execute_result",
          "data": {
            "text/plain": [
              "<seaborn.axisgrid.FacetGrid at 0x7f3374f5ae48>"
            ]
          },
          "metadata": {
            "tags": []
          },
          "execution_count": 66
        },
        {
          "output_type": "display_data",
          "data": {
            "image/png": "[encoded data removed]",
            "text/plain": [
              "<Figure size 809.625x360 with 2 Axes>"
            ]
          },
          "metadata": {
            "tags": []
          }
        }
      ]
    },
    {
      "cell_type": "markdown",
      "metadata": {
        "id": "Bzv4YeH_x5H5",
        "colab_type": "text"
      },
      "source": [
        "### 3.2.2. Preditor linear"
      ]
    },
    {
      "cell_type": "code",
      "metadata": {
        "id": "MMFLuMLir1kA",
        "colab_type": "code",
        "outputId": "408aebcf-91d8-49ec-a6ae-16f4fc8a4eca",
        "colab": {
          "base_uri": "https://localhost:8080/"
        }
      },
      "source": [
        "#Definir X e Y\n",
        "\n",
        "x=dados[['horas_esperadas','preco']]\n",
        "y=dados['finalizados']\n",
        "\n",
        "#Treinar e testar modelo\n",
        "\n",
        "SEED = 5\n",
        "np.random.seed(SEED)\n",
        "\n",
        "treino_x, teste_x, treino_y, teste_y = train_test_split(x, y, test_size = 0.25,stratify = y)\n",
        "print(\"Treinaremos com %d elementos e testaremos com %d elementos\" % (len(treino_x), len(teste_x)))\n",
        "\n",
        "modelo = LinearSVC()\n",
        "modelo.fit(treino_x, treino_y)\n",
        "previsoes = modelo.predict(teste_x)\n",
        "\n",
        "acuracia = accuracy_score(teste_y, previsoes) * 100\n",
        "print(\"A acurácia foi %.2f%%\" % acuracia)"
      ],
      "execution_count": 0,
      "outputs": [
        {
          "output_type": "stream",
          "text": [
            "Treinaremos com 1617 elementos e testaremos com 540 elementos\n",
            "A acurácia foi 64.44%\n"
          ],
          "name": "stdout"
        },
        {
          "output_type": "stream",
          "text": [
            "/usr/local/lib/python3.6/dist-packages/sklearn/svm/_base.py:947: ConvergenceWarning: Liblinear failed to converge, increase the number of iterations.\n",
            "  \"the number of iterations.\", ConvergenceWarning)\n"
          ],
          "name": "stderr"
        }
      ]
    },
    {
      "cell_type": "markdown",
      "metadata": {
        "id": "Dq7D2_FTzCwp",
        "colab_type": "text"
      },
      "source": [
        "> **Os classificadores/preditores bobos (dummy), basicamente chutam uma das repostas (geralemente a mais frequente no treino) como solução para todos os dados de entrada.Se o modelo for tão ruim,ou próximo do dummy, que dizer ele é ineficaiz** "
      ]
    },
    {
      "cell_type": "code",
      "metadata": {
        "id": "Eox5zBcFysHt",
        "colab_type": "code",
        "outputId": "6c19b537-04e3-442c-af43-957a8439f187",
        "colab": {
          "base_uri": "https://localhost:8080/"
        }
      },
      "source": [
        "#Criar uma referência para julgar o preditor (dummy predictor)\n",
        "chute=np.ones(540)\n",
        "acuracia = accuracy_score(teste_y, chute) * 100\n",
        "print(\"A acurácia de baseline %.2f%%\" % acuracia)"
      ],
      "execution_count": 0,
      "outputs": [
        {
          "output_type": "stream",
          "text": [
            "A acurácia de baseline 52.59%\n"
          ],
          "name": "stdout"
        }
      ]
    },
    {
      "cell_type": "code",
      "metadata": {
        "id": "FY4C2uGJy_xb",
        "colab_type": "code",
        "outputId": "995becf8-d15c-421b-ed52-9dde04a54cc8",
        "colab": {
          "base_uri": "https://localhost:8080/"
        }
      },
      "source": [
        "#Visulizar dados de teste\n",
        "G4=sns.scatterplot(x='horas_esperadas',y='preco',hue=teste_y,data=teste_x)\n",
        "G4.set(xlabel='Horas Esperadas', ylabel='Preço')"
      ],
      "execution_count": 0,
      "outputs": [
        {
          "output_type": "execute_result",
          "data": {
            "text/plain": [
              "[Text(0, 0.5, 'Preço'), Text(0.5, 0, 'Horas Esperadas')]"
            ]
          },
          "metadata": {
            "tags": []
          },
          "execution_count": 69
        },
        {
          "output_type": "display_data",
          "data": {
            "image/png": "[encoded data removed]",
            "text/plain": [
              "<Figure size 432x288 with 1 Axes>"
            ]
          },
          "metadata": {
            "tags": []
          }
        }
      ]
    },
    {
      "cell_type": "markdown",
      "metadata": {
        "id": "arvSeT730zOm",
        "colab_type": "text"
      },
      "source": [
        "#### 2.2.1. Visulizar predições "
      ]
    },
    {
      "cell_type": "markdown",
      "metadata": {
        "id": "YBJj1gqf1IK3",
        "colab_type": "text"
      },
      "source": [
        " * Definir o grid de apresentação\n",
        " \n",
        " $$P_x = \\frac{\\Delta x}{Pixels}$$\n",
        "\n",
        " $$P_y = \\frac{\\Delta y}{Pixels}$$"
      ]
    },
    {
      "cell_type": "code",
      "metadata": {
        "id": "kzVztpo50gO6",
        "colab_type": "code",
        "outputId": "372f9207-e498-46a2-f60e-9db0a29baa73",
        "colab": {
          "base_uri": "https://localhost:8080/"
        }
      },
      "source": [
        "#Delta X\n",
        "xmin=teste_x.horas_esperadas.min()\n",
        "xmax=teste_x.horas_esperadas.max()\n",
        "\n",
        "#Delta Y\n",
        "ymin=teste_x.preco.min()\n",
        "ymax=teste_x.preco.max()\n",
        "\n",
        "#Malha\n",
        "pixels=100\n",
        "eixo_x=np.arange(xmin,xmax,(xmax-xmin)/pixels)\n",
        "eixo_y=np.arange(ymin,ymax,(ymax-ymin)/pixels)\n",
        "\n",
        "xx,yy=np.meshgrid(eixo_x,eixo_y)\n",
        "pontos=np.c_[xx.ravel(),yy.ravel()]\n",
        "\n",
        "#Assumido que a cor é uma terceira dimensão\n",
        "Z=modelo.predict(pontos)\n",
        "Z=Z.reshape(xx.shape)\n",
        "\n",
        "#Plotando com Matplotlib\n",
        "G5=plt.contourf(xx, yy, Z, alpha=0.3)\n",
        "G5=plt.scatter(teste_x.horas_esperadas,teste_x.preco,c=teste_y,s=2)"
      ],
      "execution_count": 0,
      "outputs": [
        {
          "output_type": "display_data",
          "data": {
            "image/png": "[encoded data removed]",
            "text/plain": [
              "<Figure size 432x288 with 1 Axes>"
            ]
          },
          "metadata": {
            "tags": []
          }
        }
      ]
    },
    {
      "cell_type": "markdown",
      "metadata": {
        "id": "aOp5mPg72Ibe",
        "colab_type": "text"
      },
      "source": [
        "> **Em amarelo está predição do modelo.Nota-se que o modelo linear só teve uma reposta como saída , oque justifica sua baixa acurácia** "
      ]
    },
    {
      "cell_type": "markdown",
      "metadata": {
        "id": "AQF3-LoA3Iyd",
        "colab_type": "text"
      },
      "source": [
        "## 3.3. Preditores não-lineares"
      ]
    },
    {
      "cell_type": "code",
      "metadata": {
        "id": "x7Ua-Aa91bNn",
        "colab_type": "code",
        "outputId": "2a7924f9-1677-47cc-a35d-5a4539b974ef",
        "colab": {
          "base_uri": "https://localhost:8080/"
        }
      },
      "source": [
        "#Sem redimensionar as variáveis\n",
        "SEED = 5\n",
        "np.random.seed(SEED)\n",
        "\n",
        "treino_x, teste_x, treino_y, teste_y = train_test_split(x, y,test_size = 0.25,stratify = y)\n",
        "print(\"Treinaremos com %d elementos e testaremos com %d elementos\" % (len(treino_x), len(teste_x)))\n",
        "\n",
        "modelo = SVC()\n",
        "modelo.fit(treino_x, treino_y)\n",
        "previsoes = modelo.predict(teste_x)\n",
        "\n",
        "acuracia = accuracy_score(teste_y, previsoes) * 100\n",
        "print(\"A acurácia foi %.2f%%\" % acuracia)\n",
        "\n",
        "#Visualizar\n",
        "xmin=teste_x.horas_esperadas.min()\n",
        "xmax=teste_x.horas_esperadas.max()\n",
        "\n",
        "ymin=teste_x.preco.min()\n",
        "ymax=teste_x.preco.max()\n",
        "\n",
        "pixels=100\n",
        "eixo_x=np.arange(xmin,xmax,(xmax-xmin)/pixels)\n",
        "eixo_y=np.arange(ymin,ymax,(ymax-ymin)/pixels)\n",
        "\n",
        "xx,yy=np.meshgrid(eixo_x,eixo_y)\n",
        "pontos=np.c_[xx.ravel(),yy.ravel()]\n",
        "\n",
        "Z=modelo.predict(pontos)\n",
        "Z=Z.reshape(xx.shape)\n",
        "\n",
        "import matplotlib.pyplot as plt\n",
        "\n",
        "G6=plt.contourf(xx, yy, Z, alpha=0.3)\n",
        "\n",
        "G6=plt.scatter(teste_x.horas_esperadas,teste_x.preco,c=teste_y,s=2)"
      ],
      "execution_count": 0,
      "outputs": [
        {
          "output_type": "stream",
          "text": [
            "Treinaremos com 1617 elementos e testaremos com 540 elementos\n",
            "A acurácia foi 55.19%\n"
          ],
          "name": "stdout"
        },
        {
          "output_type": "display_data",
          "data": {
            "image/png": "[encoded data removed]",
            "text/plain": [
              "<Figure size 432x288 with 1 Axes>"
            ]
          },
          "metadata": {
            "tags": []
          }
        }
      ]
    },
    {
      "cell_type": "code",
      "metadata": {
        "id": "-crcQhoP3jCo",
        "colab_type": "code",
        "outputId": "9d944df7-3606-42d2-fbc8-b9bb4e5f4640",
        "colab": {
          "base_uri": "https://localhost:8080/"
        }
      },
      "source": [
        "#Redimensionando as varivéis\n",
        "SEED = 5\n",
        "np.random.seed(SEED)\n",
        "\n",
        "treino_x, teste_x, treino_y, teste_y = train_test_split(x, y,test_size = 0.25,stratify = y)\n",
        "print(\"Treinaremos com %d elementos e testaremos com %d elementos\" % (len(treino_x), len(teste_x)))\n",
        "\n",
        "scaler=StandardScaler()\n",
        "scaler.fit(treino_x)\n",
        "treino_x=scaler.transform(treino_x)\n",
        "teste_x=scaler.transform(teste_x)\n",
        "\n",
        "\n",
        "\n",
        "modelo = SVC()\n",
        "modelo.fit(treino_x, treino_y)\n",
        "previsoes = modelo.predict(teste_x)\n",
        "\n",
        "acuracia = accuracy_score(teste_y, previsoes) * 100\n",
        "print(\"A acurácia foi %.2f%%\" % acuracia)\n",
        "\n",
        "\n",
        "# Visulizar \n",
        "\n",
        "data_x=teste_x[:,0]\n",
        "data_y=teste_x[:,1]\n",
        "\n",
        "xmin=data_x.min()\n",
        "xmax=data_x.max()\n",
        "\n",
        "ymin=data_y.min()\n",
        "ymax=data_y.max()\n",
        "\n",
        "pixels=100\n",
        "eixo_x=np.arange(xmin,xmax,(xmax-xmin)/pixels)\n",
        "eixo_y=np.arange(ymin,ymax,(ymax-ymin)/pixels)\n",
        "\n",
        "xx,yy=np.meshgrid(eixo_x,eixo_y)\n",
        "pontos=np.c_[xx.ravel(),yy.ravel()]\n",
        "\n",
        "Z=modelo.predict(pontos)\n",
        "Z=Z.reshape(xx.shape)\n",
        "\n",
        "\n",
        "\n",
        "G7=plt.contourf(xx, yy, Z, alpha=0.3)\n",
        "G7=plt.scatter(data_x,data_y,c=teste_y,s=2)"
      ],
      "execution_count": 0,
      "outputs": [
        {
          "output_type": "stream",
          "text": [
            "Treinaremos com 1617 elementos e testaremos com 540 elementos\n",
            "A acurácia foi 66.85%\n"
          ],
          "name": "stdout"
        },
        {
          "output_type": "display_data",
          "data": {
            "image/png": "[encoded data removed]",
            "text/plain": [
              "<Figure size 432x288 with 1 Axes>"
            ]
          },
          "metadata": {
            "tags": []
          }
        }
      ]
    },
    {
      "cell_type": "markdown",
      "metadata": {
        "id": "Nfx2C_bJ4xrh",
        "colab_type": "text"
      },
      "source": [
        "> **Qaundo as variáveisestão em escalas muito diferentes, é comum que o erro predição aumente.Por isso , reesclar as varivéis é uma boa solução quando se trabalha em escalas muito distintas.Varivés reescaladas não podem ser trabalhadas diretamente e não tem facil compreesão como as variavés originais**"
      ]
    },
    {
      "cell_type": "code",
      "metadata": {
        "id": "fzKdZSPp32qa",
        "colab_type": "code",
        "colab": {}
      },
      "source": [
        ""
      ],
      "execution_count": 0,
      "outputs": []
    },
    {
      "cell_type": "markdown",
      "metadata": {
        "id": "bLGXel9r7QTL",
        "colab_type": "text"
      },
      "source": [
        "# <font color=green> AULA 4 - COMPARANDO MODELOS E PREDITOR TIPO ÁRVORE "
      ]
    },
    {
      "cell_type": "markdown",
      "metadata": {
        "id": "hR2IsRd08cWQ",
        "colab_type": "text"
      },
      "source": [
        "## Instalar Graphviz"
      ]
    },
    {
      "cell_type": "code",
      "metadata": {
        "id": "_srtMNyL8bn6",
        "colab_type": "code",
        "outputId": "4a572685-4618-4953-cce3-d7efc75fcb7d",
        "colab": {
          "base_uri": "https://localhost:8080/"
        }
      },
      "source": [
        "!pip install graphviz\n",
        "!apt-get install graphviz"
      ],
      "execution_count": 0,
      "outputs": [
        {
          "output_type": "stream",
          "text": [
            "Requirement already satisfied: graphviz in /usr/local/lib/python3.6/dist-packages (0.10.1)\n",
            "Reading package lists... Done\n",
            "Building dependency tree       \n",
            "Reading state information... Done\n",
            "graphviz is already the newest version (2.40.1-2).\n",
            "The following package was automatically installed and is no longer required:\n",
            "  libnvidia-common-430\n",
            "Use 'apt autoremove' to remove it.\n",
            "0 upgraded, 0 newly installed, 0 to remove and 7 not upgraded.\n"
          ],
          "name": "stdout"
        }
      ]
    },
    {
      "cell_type": "markdown",
      "metadata": {
        "id": "x25UlJIK8puq",
        "colab_type": "text"
      },
      "source": [
        "## Importar bibliotecas"
      ]
    },
    {
      "cell_type": "code",
      "metadata": {
        "id": "-2lIQKdc7hmO",
        "colab_type": "code",
        "colab": {}
      },
      "source": [
        "import pandas as pd\n",
        "import numpy as np\n",
        "import graphviz\n",
        "\n",
        "from datetime import datetime\n",
        "from sklearn.dummy import DummyClassifier\n",
        "from sklearn.model_selection import train_test_split\n",
        "from sklearn.svm import SVC\n",
        "from sklearn.metrics import accuracy_score\n",
        "from sklearn.preprocessing import StandardScaler\n",
        "from sklearn.tree import DecisionTreeClassifier     #Classificador tipo árvore\n",
        "from sklearn.tree import export_graphviz\n",
        "\n"
      ],
      "execution_count": 0,
      "outputs": []
    },
    {
      "cell_type": "code",
      "metadata": {
        "id": "LOaZ3gmu9Quu",
        "colab_type": "code",
        "colab": {}
      },
      "source": [
        ""
      ],
      "execution_count": 0,
      "outputs": []
    },
    {
      "cell_type": "markdown",
      "metadata": {
        "id": "tNp_ikjS9YZa",
        "colab_type": "text"
      },
      "source": [
        "## 4.1 Importar e Tratar Base de Dados"
      ]
    },
    {
      "cell_type": "code",
      "metadata": {
        "id": "EB2X07gp9fCl",
        "colab_type": "code",
        "outputId": "74ec80f4-7484-4ad6-bad8-b61236d6e8b4",
        "colab": {
          "base_uri": "https://localhost:8080/"
        }
      },
      "source": [
        "uri='https://gist.githubusercontent.com/guilhermesilveira/4d1d4a16ccbf6ea4e0a64a38a24ec884/raw/afd05cb0c796d18f3f5a6537053ded308ba94bf7/car-prices.csv'\n",
        "dados=pd.read_csv(uri)\n",
        "\n",
        "#Mudar nomes de colunas\n",
        "dados.columns=['contador','milhas_por_ano','ano_do_modelo','preco','vendido']\n",
        "\n",
        "#Trocar sim/não por 1/0\n",
        "troca={'no':0,'yes':1}\n",
        "dados['vendido']=dados.vendido.map(troca)\n",
        "\n",
        "#Criar novas colunas de varivés \n",
        "ano_atual=datetime.today().year\n",
        "dados['idade_do_modelo']=ano_atual-dados.ano_do_modelo\n",
        "dados['km_por_ano']=dados.milhas_por_ano*1.60934\n",
        "\n",
        "dados.head(3)"
      ],
      "execution_count": 0,
      "outputs": [
        {
          "output_type": "execute_result",
          "data": {
            "text/html": [
              "<div>\n",
              "<style scoped>\n",
              "    .dataframe tbody tr th:only-of-type {\n",
              "        vertical-align: middle;\n",
              "    }\n",
              "\n",
              "    .dataframe tbody tr th {\n",
              "        vertical-align: top;\n",
              "    }\n",
              "\n",
              "    .dataframe thead th {\n",
              "        text-align: right;\n",
              "    }\n",
              "</style>\n",
              "<table border=\"1\" class=\"dataframe\">\n",
              "  <thead>\n",
              "    <tr style=\"text-align: right;\">\n",
              "      <th></th>\n",
              "      <th>contador</th>\n",
              "      <th>milhas_por_ano</th>\n",
              "      <th>ano_do_modelo</th>\n",
              "      <th>preco</th>\n",
              "      <th>vendido</th>\n",
              "      <th>idade_do_modelo</th>\n",
              "      <th>km_por_ano</th>\n",
              "    </tr>\n",
              "  </thead>\n",
              "  <tbody>\n",
              "    <tr>\n",
              "      <th>0</th>\n",
              "      <td>0</td>\n",
              "      <td>21801</td>\n",
              "      <td>2000</td>\n",
              "      <td>30941.02</td>\n",
              "      <td>1</td>\n",
              "      <td>20</td>\n",
              "      <td>35085.22134</td>\n",
              "    </tr>\n",
              "    <tr>\n",
              "      <th>1</th>\n",
              "      <td>1</td>\n",
              "      <td>7843</td>\n",
              "      <td>1998</td>\n",
              "      <td>40557.96</td>\n",
              "      <td>1</td>\n",
              "      <td>22</td>\n",
              "      <td>12622.05362</td>\n",
              "    </tr>\n",
              "    <tr>\n",
              "      <th>2</th>\n",
              "      <td>2</td>\n",
              "      <td>7109</td>\n",
              "      <td>2006</td>\n",
              "      <td>89627.50</td>\n",
              "      <td>0</td>\n",
              "      <td>14</td>\n",
              "      <td>11440.79806</td>\n",
              "    </tr>\n",
              "  </tbody>\n",
              "</table>\n",
              "</div>"
            ],
            "text/plain": [
              "   contador  milhas_por_ano  ...  idade_do_modelo   km_por_ano\n",
              "0         0           21801  ...               20  35085.22134\n",
              "1         1            7843  ...               22  12622.05362\n",
              "2         2            7109  ...               14  11440.79806\n",
              "\n",
              "[3 rows x 7 columns]"
            ]
          },
          "metadata": {
            "tags": []
          },
          "execution_count": 75
        }
      ]
    },
    {
      "cell_type": "code",
      "metadata": {
        "id": "fzlsc0jd-LUU",
        "colab_type": "code",
        "outputId": "ed096651-bed1-49f2-98bb-5bcc16b97198",
        "colab": {
          "base_uri": "https://localhost:8080/"
        }
      },
      "source": [
        "#Apagar colunas de variáveis indesejadas\n",
        "dados=dados.drop(columns=['contador','milhas_por_ano','ano_do_modelo'],axis=1)\n",
        "dados.head(3)"
      ],
      "execution_count": 0,
      "outputs": [
        {
          "output_type": "execute_result",
          "data": {
            "text/html": [
              "<div>\n",
              "<style scoped>\n",
              "    .dataframe tbody tr th:only-of-type {\n",
              "        vertical-align: middle;\n",
              "    }\n",
              "\n",
              "    .dataframe tbody tr th {\n",
              "        vertical-align: top;\n",
              "    }\n",
              "\n",
              "    .dataframe thead th {\n",
              "        text-align: right;\n",
              "    }\n",
              "</style>\n",
              "<table border=\"1\" class=\"dataframe\">\n",
              "  <thead>\n",
              "    <tr style=\"text-align: right;\">\n",
              "      <th></th>\n",
              "      <th>preco</th>\n",
              "      <th>vendido</th>\n",
              "      <th>idade_do_modelo</th>\n",
              "      <th>km_por_ano</th>\n",
              "    </tr>\n",
              "  </thead>\n",
              "  <tbody>\n",
              "    <tr>\n",
              "      <th>0</th>\n",
              "      <td>30941.02</td>\n",
              "      <td>1</td>\n",
              "      <td>20</td>\n",
              "      <td>35085.22134</td>\n",
              "    </tr>\n",
              "    <tr>\n",
              "      <th>1</th>\n",
              "      <td>40557.96</td>\n",
              "      <td>1</td>\n",
              "      <td>22</td>\n",
              "      <td>12622.05362</td>\n",
              "    </tr>\n",
              "    <tr>\n",
              "      <th>2</th>\n",
              "      <td>89627.50</td>\n",
              "      <td>0</td>\n",
              "      <td>14</td>\n",
              "      <td>11440.79806</td>\n",
              "    </tr>\n",
              "  </tbody>\n",
              "</table>\n",
              "</div>"
            ],
            "text/plain": [
              "      preco  vendido  idade_do_modelo   km_por_ano\n",
              "0  30941.02        1               20  35085.22134\n",
              "1  40557.96        1               22  12622.05362\n",
              "2  89627.50        0               14  11440.79806"
            ]
          },
          "metadata": {
            "tags": []
          },
          "execution_count": 76
        }
      ]
    },
    {
      "cell_type": "code",
      "metadata": {
        "id": "bUo6Ozio-ZVV",
        "colab_type": "code",
        "colab": {}
      },
      "source": [
        ""
      ],
      "execution_count": 0,
      "outputs": []
    },
    {
      "cell_type": "markdown",
      "metadata": {
        "id": "6o-nHBaF-keW",
        "colab_type": "text"
      },
      "source": [
        "## 4.2. Modelo Natural x Modelo Reescalado X Modelo Dummy"
      ]
    },
    {
      "cell_type": "code",
      "metadata": {
        "id": "7ZzH8jvY-3ZV",
        "colab_type": "code",
        "outputId": "6258bfa7-69bb-4c8f-b435-6350732eb4db",
        "colab": {
          "base_uri": "https://localhost:8080/"
        }
      },
      "source": [
        "# Modelo dummy automatizado\n",
        "dummy=DummyClassifier()\n",
        "dummy.fit(treino_x, treino_y)\n",
        "acuracia = dummy.score(teste_x,teste_y)*100\n",
        "\n",
        "print(\"A acurácia do dummy foi de %.2f%%\" % acuracia)\n"
      ],
      "execution_count": 0,
      "outputs": [
        {
          "output_type": "stream",
          "text": [
            "A acurácia do dummy foi de 49.26%\n"
          ],
          "name": "stdout"
        },
        {
          "output_type": "stream",
          "text": [
            "/usr/local/lib/python3.6/dist-packages/sklearn/dummy.py:132: FutureWarning: The default value of strategy will change from stratified to prior in 0.24.\n",
            "  \"stratified to prior in 0.24.\", FutureWarning)\n"
          ],
          "name": "stderr"
        }
      ]
    },
    {
      "cell_type": "code",
      "metadata": {
        "id": "2Dq-6uzV_Hl8",
        "colab_type": "code",
        "outputId": "075a7f6b-65c0-47be-ad67-f65b9ad55f31",
        "colab": {
          "base_uri": "https://localhost:8080/"
        }
      },
      "source": [
        "# Modelo Natural\n",
        "SEED = 5\n",
        "np.random.seed(SEED)\n",
        "\n",
        "treino_x, teste_x, treino_y, teste_y = train_test_split(x, y, test_size = 0.25,stratify = y)\n",
        "print(\"Treinaremos com %d elementos e testaremos com %d elementos\" % (len(treino_x), len(teste_x)))\n",
        "\n",
        "modelo = SVC()\n",
        "modelo.fit(treino_x, treino_y)\n",
        "previsoes = modelo.predict(teste_x)\n",
        "\n",
        "acuracia = accuracy_score(teste_y, previsoes) * 100\n",
        "print(\"A acurácia do modelo foi de %.2f%%\" % acuracia)\n"
      ],
      "execution_count": 0,
      "outputs": [
        {
          "output_type": "stream",
          "text": [
            "Treinaremos com 1617 elementos e testaremos com 540 elementos\n",
            "A acurácia do modelo foi de 55.19%\n"
          ],
          "name": "stdout"
        }
      ]
    },
    {
      "cell_type": "code",
      "metadata": {
        "id": "uk63eG1m_WWl",
        "colab_type": "code",
        "outputId": "72993760-d89c-41bf-90b3-91eec97add5a",
        "colab": {
          "base_uri": "https://localhost:8080/"
        }
      },
      "source": [
        "# Modelo com variáveis reescaldas\n",
        "\n",
        "SEED = 5\n",
        "np.random.seed(SEED)\n",
        "\n",
        "treino_x, teste_x, treino_y, teste_y = train_test_split(x, y,test_size = 0.25,stratify = y)\n",
        "print(\"Treinaremos com %d elementos e testaremos com %d elementos\" % (len(treino_x), len(teste_x)))\n",
        "\n",
        "scaler=StandardScaler()\n",
        "scaler.fit(treino_x)\n",
        "treino_x=scaler.transform(treino_x)\n",
        "teste_x=scaler.transform(teste_x)\n",
        "\n",
        "\n",
        "\n",
        "modelo = SVC()\n",
        "modelo.fit(treino_x, treino_y)\n",
        "previsoes = modelo.predict(teste_x)\n",
        "\n",
        "acuracia = accuracy_score(teste_y, previsoes) * 100\n",
        "print(\"A acurácia foi %.2f%%\" % acuracia)"
      ],
      "execution_count": 0,
      "outputs": [
        {
          "output_type": "stream",
          "text": [
            "Treinaremos com 1617 elementos e testaremos com 540 elementos\n",
            "A acurácia foi 66.85%\n"
          ],
          "name": "stdout"
        }
      ]
    },
    {
      "cell_type": "code",
      "metadata": {
        "id": "wfAGl9xt_3Gd",
        "colab_type": "code",
        "colab": {}
      },
      "source": [
        ""
      ],
      "execution_count": 0,
      "outputs": []
    },
    {
      "cell_type": "markdown",
      "metadata": {
        "id": "fxExpbxyAEzz",
        "colab_type": "text"
      },
      "source": [
        "## 4.3. Modelo de Árvores"
      ]
    },
    {
      "cell_type": "code",
      "metadata": {
        "id": "MuKMQVN8AKaV",
        "colab_type": "code",
        "outputId": "f61a9d6f-3cd7-4ac5-b5ff-a75252bfdd95",
        "colab": {
          "base_uri": "https://localhost:8080/"
        }
      },
      "source": [
        "SEED = 5\n",
        "np.random.seed(SEED)\n",
        "\n",
        "treino_x, teste_x, treino_y, teste_y = train_test_split(x, y,test_size = 0.25,stratify = y)\n",
        "print(\"Treinaremos com %d elementos e testaremos com %d elementos\" % (len(treino_x), len(teste_x)))\n",
        "\n",
        "modelo = DecisionTreeClassifier(max_depth=2)\n",
        "modelo.fit(treino_x, treino_y)\n",
        "previsoes = modelo.predict(teste_x)\n",
        "\n",
        "acuracia = accuracy_score(teste_y, previsoes) * 100\n",
        "print(\"A acurácia foi %.2f%%\" % acuracia)"
      ],
      "execution_count": 0,
      "outputs": [
        {
          "output_type": "stream",
          "text": [
            "Treinaremos com 1617 elementos e testaremos com 540 elementos\n",
            "A acurácia foi 66.48%\n"
          ],
          "name": "stdout"
        }
      ]
    },
    {
      "cell_type": "code",
      "metadata": {
        "id": "and6VscSAYJ9",
        "colab_type": "code",
        "outputId": "a3090a8e-2a7a-41f9-f099-31b8f007f28b",
        "colab": {
          "base_uri": "https://localhost:8080/"
        }
      },
      "source": [
        "# Visulizando resultado\n",
        "features=x.columns\n",
        "dot_data = export_graphviz(modelo, out_file=None,filled=True,rounded=True,feature_names=features,class_names=['não','sim'])\n",
        "G8 = graphviz.Source(dot_data)\n",
        "G8\n"
      ],
      "execution_count": 0,
      "outputs": [
        {
          "output_type": "execute_result",
          "data": {
            "text/plain": [
              "<graphviz.files.Source at 0x7f3371f9c208>"
            ],
            "image/svg+xml": "<?xml version=\"1.0\" encoding=\"UTF-8\" standalone=\"no\"?>\n<!DOCTYPE svg PUBLIC \"-//W3C//DTD SVG 1.1//EN\"\n \"http://www.w3.org/Graphics/SVG/1.1/DTD/svg11.dtd\">\n<!-- Generated by graphviz version 2.40.1 (20161225.0304)\n -->\n<!-- Title: Tree Pages: 1 -->\n<svg width=\"569pt\" height=\"314pt\"\n viewBox=\"0.00 0.00 569.00 314.00\" xmlns=\"http://www.w3.org/2000/svg\" xmlns:xlink=\"http://www.w3.org/1999/xlink\">\n<g id=\"graph0\" class=\"graph\" transform=\"scale(1 1) rotate(0) translate(4 310)\">\n<title>Tree</title>\n<polygon fill=\"#ffffff\" stroke=\"transparent\" points=\"-4,4 -4,-310 565,-310 565,4 -4,4\"/>\n<!-- 0 -->\n<g id=\"node1\" class=\"node\">\n<title>0</title>\n<path fill=\"#ecf5fc\" stroke=\"#000000\" d=\"M326,-306C326,-306 218,-306 218,-306 212,-306 206,-300 206,-294 206,-294 206,-235 206,-235 206,-229 212,-223 218,-223 218,-223 326,-223 326,-223 332,-223 338,-229 338,-235 338,-235 338,-294 338,-294 338,-300 332,-306 326,-306\"/>\n<text text-anchor=\"middle\" x=\"272\" y=\"-290.8\" font-family=\"Helvetica,sans-Serif\" font-size=\"14.00\" fill=\"#000000\">preco &lt;= 205.5</text>\n<text text-anchor=\"middle\" x=\"272\" y=\"-275.8\" font-family=\"Helvetica,sans-Serif\" font-size=\"14.00\" fill=\"#000000\">gini = 0.499</text>\n<text text-anchor=\"middle\" x=\"272\" y=\"-260.8\" font-family=\"Helvetica,sans-Serif\" font-size=\"14.00\" fill=\"#000000\">samples = 1617</text>\n<text text-anchor=\"middle\" x=\"272\" y=\"-245.8\" font-family=\"Helvetica,sans-Serif\" font-size=\"14.00\" fill=\"#000000\">value = [767, 850]</text>\n<text text-anchor=\"middle\" x=\"272\" y=\"-230.8\" font-family=\"Helvetica,sans-Serif\" font-size=\"14.00\" fill=\"#000000\">class = sim</text>\n</g>\n<!-- 1 -->\n<g id=\"node2\" class=\"node\">\n<title>1</title>\n<path fill=\"#ea9b61\" stroke=\"#000000\" d=\"M236,-187C236,-187 136,-187 136,-187 130,-187 124,-181 124,-175 124,-175 124,-116 124,-116 124,-110 130,-104 136,-104 136,-104 236,-104 236,-104 242,-104 248,-110 248,-116 248,-116 248,-175 248,-175 248,-181 242,-187 236,-187\"/>\n<text text-anchor=\"middle\" x=\"186\" y=\"-171.8\" font-family=\"Helvetica,sans-Serif\" font-size=\"14.00\" fill=\"#000000\">preco &lt;= 199.5</text>\n<text text-anchor=\"middle\" x=\"186\" y=\"-156.8\" font-family=\"Helvetica,sans-Serif\" font-size=\"14.00\" fill=\"#000000\">gini = 0.282</text>\n<text text-anchor=\"middle\" x=\"186\" y=\"-141.8\" font-family=\"Helvetica,sans-Serif\" font-size=\"14.00\" fill=\"#000000\">samples = 277</text>\n<text text-anchor=\"middle\" x=\"186\" y=\"-126.8\" font-family=\"Helvetica,sans-Serif\" font-size=\"14.00\" fill=\"#000000\">value = [230, 47]</text>\n<text text-anchor=\"middle\" x=\"186\" y=\"-111.8\" font-family=\"Helvetica,sans-Serif\" font-size=\"14.00\" fill=\"#000000\">class = não</text>\n</g>\n<!-- 0&#45;&gt;1 -->\n<g id=\"edge1\" class=\"edge\">\n<title>0&#45;&gt;1</title>\n<path fill=\"none\" stroke=\"#000000\" d=\"M241.9214,-222.8796C235.5428,-214.0534 228.746,-204.6485 222.1681,-195.5466\"/>\n<polygon fill=\"#000000\" stroke=\"#000000\" points=\"224.9012,-193.353 216.207,-187.2981 219.2277,-197.4532 224.9012,-193.353\"/>\n<text text-anchor=\"middle\" x=\"212.2338\" y=\"-208.2803\" font-family=\"Helvetica,sans-Serif\" font-size=\"14.00\" fill=\"#000000\">True</text>\n</g>\n<!-- 4 -->\n<g id=\"node5\" class=\"node\">\n<title>4</title>\n<path fill=\"#bddff6\" stroke=\"#000000\" d=\"M437.5,-187C437.5,-187 278.5,-187 278.5,-187 272.5,-187 266.5,-181 266.5,-175 266.5,-175 266.5,-116 266.5,-116 266.5,-110 272.5,-104 278.5,-104 278.5,-104 437.5,-104 437.5,-104 443.5,-104 449.5,-110 449.5,-116 449.5,-116 449.5,-175 449.5,-175 449.5,-181 443.5,-187 437.5,-187\"/>\n<text text-anchor=\"middle\" x=\"358\" y=\"-171.8\" font-family=\"Helvetica,sans-Serif\" font-size=\"14.00\" fill=\"#000000\">horas_esperadas &lt;= 33.5</text>\n<text text-anchor=\"middle\" x=\"358\" y=\"-156.8\" font-family=\"Helvetica,sans-Serif\" font-size=\"14.00\" fill=\"#000000\">gini = 0.48</text>\n<text text-anchor=\"middle\" x=\"358\" y=\"-141.8\" font-family=\"Helvetica,sans-Serif\" font-size=\"14.00\" fill=\"#000000\">samples = 1340</text>\n<text text-anchor=\"middle\" x=\"358\" y=\"-126.8\" font-family=\"Helvetica,sans-Serif\" font-size=\"14.00\" fill=\"#000000\">value = [537, 803]</text>\n<text text-anchor=\"middle\" x=\"358\" y=\"-111.8\" font-family=\"Helvetica,sans-Serif\" font-size=\"14.00\" fill=\"#000000\">class = sim</text>\n</g>\n<!-- 0&#45;&gt;4 -->\n<g id=\"edge4\" class=\"edge\">\n<title>0&#45;&gt;4</title>\n<path fill=\"none\" stroke=\"#000000\" d=\"M302.0786,-222.8796C308.4572,-214.0534 315.254,-204.6485 321.8319,-195.5466\"/>\n<polygon fill=\"#000000\" stroke=\"#000000\" points=\"324.7723,-197.4532 327.793,-187.2981 319.0988,-193.353 324.7723,-197.4532\"/>\n<text text-anchor=\"middle\" x=\"331.7662\" y=\"-208.2803\" font-family=\"Helvetica,sans-Serif\" font-size=\"14.00\" fill=\"#000000\">False</text>\n</g>\n<!-- 2 -->\n<g id=\"node3\" class=\"node\">\n<title>2</title>\n<path fill=\"#ea975c\" stroke=\"#000000\" d=\"M112,-68C112,-68 12,-68 12,-68 6,-68 0,-62 0,-56 0,-56 0,-12 0,-12 0,-6 6,0 12,0 12,0 112,0 112,0 118,0 124,-6 124,-12 124,-12 124,-56 124,-56 124,-62 118,-68 112,-68\"/>\n<text text-anchor=\"middle\" x=\"62\" y=\"-52.8\" font-family=\"Helvetica,sans-Serif\" font-size=\"14.00\" fill=\"#000000\">gini = 0.256</text>\n<text text-anchor=\"middle\" x=\"62\" y=\"-37.8\" font-family=\"Helvetica,sans-Serif\" font-size=\"14.00\" fill=\"#000000\">samples = 252</text>\n<text text-anchor=\"middle\" x=\"62\" y=\"-22.8\" font-family=\"Helvetica,sans-Serif\" font-size=\"14.00\" fill=\"#000000\">value = [214, 38]</text>\n<text text-anchor=\"middle\" x=\"62\" y=\"-7.8\" font-family=\"Helvetica,sans-Serif\" font-size=\"14.00\" fill=\"#000000\">class = não</text>\n</g>\n<!-- 1&#45;&gt;2 -->\n<g id=\"edge2\" class=\"edge\">\n<title>1&#45;&gt;2</title>\n<path fill=\"none\" stroke=\"#000000\" d=\"M139.827,-103.9815C129.2993,-94.5151 118.1192,-84.462 107.6151,-75.0168\"/>\n<polygon fill=\"#000000\" stroke=\"#000000\" points=\"109.8811,-72.3475 100.1049,-68.2637 105.2006,-77.5526 109.8811,-72.3475\"/>\n</g>\n<!-- 3 -->\n<g id=\"node4\" class=\"node\">\n<title>3</title>\n<path fill=\"#f4c8a8\" stroke=\"#000000\" d=\"M237.5,-68C237.5,-68 154.5,-68 154.5,-68 148.5,-68 142.5,-62 142.5,-56 142.5,-56 142.5,-12 142.5,-12 142.5,-6 148.5,0 154.5,0 154.5,0 237.5,0 237.5,0 243.5,0 249.5,-6 249.5,-12 249.5,-12 249.5,-56 249.5,-56 249.5,-62 243.5,-68 237.5,-68\"/>\n<text text-anchor=\"middle\" x=\"196\" y=\"-52.8\" font-family=\"Helvetica,sans-Serif\" font-size=\"14.00\" fill=\"#000000\">gini = 0.461</text>\n<text text-anchor=\"middle\" x=\"196\" y=\"-37.8\" font-family=\"Helvetica,sans-Serif\" font-size=\"14.00\" fill=\"#000000\">samples = 25</text>\n<text text-anchor=\"middle\" x=\"196\" y=\"-22.8\" font-family=\"Helvetica,sans-Serif\" font-size=\"14.00\" fill=\"#000000\">value = [16, 9]</text>\n<text text-anchor=\"middle\" x=\"196\" y=\"-7.8\" font-family=\"Helvetica,sans-Serif\" font-size=\"14.00\" fill=\"#000000\">class = não</text>\n</g>\n<!-- 1&#45;&gt;3 -->\n<g id=\"edge3\" class=\"edge\">\n<title>1&#45;&gt;3</title>\n<path fill=\"none\" stroke=\"#000000\" d=\"M189.7236,-103.9815C190.4737,-95.618 191.2649,-86.7965 192.0232,-78.3409\"/>\n<polygon fill=\"#000000\" stroke=\"#000000\" points=\"195.5197,-78.5364 192.927,-68.2637 188.5477,-77.911 195.5197,-78.5364\"/>\n</g>\n<!-- 5 -->\n<g id=\"node6\" class=\"node\">\n<title>5</title>\n<path fill=\"#61b1ea\" stroke=\"#000000\" d=\"M399,-68C399,-68 299,-68 299,-68 293,-68 287,-62 287,-56 287,-56 287,-12 287,-12 287,-6 293,0 299,0 299,0 399,0 399,0 405,0 411,-6 411,-12 411,-12 411,-56 411,-56 411,-62 405,-68 399,-68\"/>\n<text text-anchor=\"middle\" x=\"349\" y=\"-52.8\" font-family=\"Helvetica,sans-Serif\" font-size=\"14.00\" fill=\"#000000\">gini = 0.279</text>\n<text text-anchor=\"middle\" x=\"349\" y=\"-37.8\" font-family=\"Helvetica,sans-Serif\" font-size=\"14.00\" fill=\"#000000\">samples = 281</text>\n<text text-anchor=\"middle\" x=\"349\" y=\"-22.8\" font-family=\"Helvetica,sans-Serif\" font-size=\"14.00\" fill=\"#000000\">value = [47, 234]</text>\n<text text-anchor=\"middle\" x=\"349\" y=\"-7.8\" font-family=\"Helvetica,sans-Serif\" font-size=\"14.00\" fill=\"#000000\">class = sim</text>\n</g>\n<!-- 4&#45;&gt;5 -->\n<g id=\"edge5\" class=\"edge\">\n<title>4&#45;&gt;5</title>\n<path fill=\"none\" stroke=\"#000000\" d=\"M354.6487,-103.9815C353.9737,-95.618 353.2616,-86.7965 352.5791,-78.3409\"/>\n<polygon fill=\"#000000\" stroke=\"#000000\" points=\"356.059,-77.9496 351.7657,-68.2637 349.0817,-78.5129 356.059,-77.9496\"/>\n</g>\n<!-- 6 -->\n<g id=\"node7\" class=\"node\">\n<title>6</title>\n<path fill=\"#e4f1fb\" stroke=\"#000000\" d=\"M549,-68C549,-68 441,-68 441,-68 435,-68 429,-62 429,-56 429,-56 429,-12 429,-12 429,-6 435,0 441,0 441,0 549,0 549,0 555,0 561,-6 561,-12 561,-12 561,-56 561,-56 561,-62 555,-68 549,-68\"/>\n<text text-anchor=\"middle\" x=\"495\" y=\"-52.8\" font-family=\"Helvetica,sans-Serif\" font-size=\"14.00\" fill=\"#000000\">gini = 0.497</text>\n<text text-anchor=\"middle\" x=\"495\" y=\"-37.8\" font-family=\"Helvetica,sans-Serif\" font-size=\"14.00\" fill=\"#000000\">samples = 1059</text>\n<text text-anchor=\"middle\" x=\"495\" y=\"-22.8\" font-family=\"Helvetica,sans-Serif\" font-size=\"14.00\" fill=\"#000000\">value = [490, 569]</text>\n<text text-anchor=\"middle\" x=\"495\" y=\"-7.8\" font-family=\"Helvetica,sans-Serif\" font-size=\"14.00\" fill=\"#000000\">class = sim</text>\n</g>\n<!-- 4&#45;&gt;6 -->\n<g id=\"edge6\" class=\"edge\">\n<title>4&#45;&gt;6</title>\n<path fill=\"none\" stroke=\"#000000\" d=\"M409.0137,-103.9815C420.758,-94.4232 433.2372,-84.2668 444.9405,-74.7419\"/>\n<polygon fill=\"#000000\" stroke=\"#000000\" points=\"447.3536,-77.2906 452.9002,-68.2637 442.935,-71.8614 447.3536,-77.2906\"/>\n</g>\n</g>\n</svg>\n"
          },
          "metadata": {
            "tags": []
          },
          "execution_count": 81
        }
      ]
    },
    {
      "cell_type": "code",
      "metadata": {
        "id": "HVYaWnKcA3Ce",
        "colab_type": "code",
        "colab": {}
      },
      "source": [
        ""
      ],
      "execution_count": 0,
      "outputs": []
    }
  ]
}